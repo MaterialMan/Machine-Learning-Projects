{
 "cells": [
  {
   "cell_type": "markdown",
   "metadata": {},
   "source": [
    "\n",
    "# RNN for Text Generation\n",
    "\n",
    "\n",
    "## Imports"
   ]
  },
  {
   "cell_type": "code",
   "execution_count": 1,
   "metadata": {},
   "outputs": [],
   "source": [
    "import torch\n",
    "from torch import nn\n",
    "import torch.nn.functional as F\n",
    "\n",
    "import numpy as np\n",
    "import matplotlib.pyplot as plt\n",
    "%matplotlib inline"
   ]
  },
  {
   "cell_type": "markdown",
   "metadata": {},
   "source": [
    "## Get Text Data"
   ]
  },
  {
   "cell_type": "code",
   "execution_count": 2,
   "metadata": {},
   "outputs": [],
   "source": [
    "with open('../Data Science Projects/shakespeare.txt','r',encoding='utf8') as f:\n",
    "    text = f.read()"
   ]
  },
  {
   "cell_type": "code",
   "execution_count": 3,
   "metadata": {},
   "outputs": [
    {
     "name": "stdout",
     "output_type": "stream",
     "text": [
      "\n",
      "                     1\n",
      "  From fairest creatures we desire increase,\n",
      "  That thereby beauty's rose might never die,\n",
      "  But as the riper should by time decease,\n",
      "  His tender heir might bear his memory:\n",
      "  But thou contracted to thine own bright eyes,\n",
      "  Feed'st thy light's flame with self-substantial fuel,\n",
      "  Making a famine where abundance lies,\n",
      "  Thy self thy foe, to thy sweet self too cruel:\n",
      "  Thou that art now the world's fresh ornament,\n",
      "  And only herald to the gaudy spring,\n",
      "  Within thine own bud buriest thy content,\n",
      "  And tender churl mak'st waste in niggarding:\n",
      "    Pity the world, or else this glutton be,\n",
      "    To eat the world's due, by the grave and thee.\n",
      "\n",
      "\n",
      "                     2\n",
      "  When forty winters shall besiege thy brow,\n",
      "  And dig deep trenches in thy beauty's field,\n",
      "  Thy youth's proud livery so gazed on now,\n",
      "  Will be a tattered weed of small worth held:  \n",
      "  Then being asked, where all thy beauty lies,\n",
      "  Where all the treasure of thy lusty days;\n",
      "  To say within thine own deep su\n"
     ]
    }
   ],
   "source": [
    "print(text[:1000])"
   ]
  },
  {
   "cell_type": "code",
   "execution_count": 4,
   "metadata": {},
   "outputs": [
    {
     "data": {
      "text/plain": [
       "5445609"
      ]
     },
     "execution_count": 4,
     "metadata": {},
     "output_type": "execute_result"
    }
   ],
   "source": [
    "len(text)"
   ]
  },
  {
   "cell_type": "markdown",
   "metadata": {},
   "source": [
    "## Encode Text"
   ]
  },
  {
   "cell_type": "code",
   "execution_count": 5,
   "metadata": {},
   "outputs": [],
   "source": [
    "# get all used characters\n",
    "all_characters = set(text)"
   ]
  },
  {
   "cell_type": "code",
   "execution_count": 6,
   "metadata": {},
   "outputs": [],
   "source": [
    "# decode num to characters \n",
    "decoder = dict(enumerate(all_characters))"
   ]
  },
  {
   "cell_type": "code",
   "execution_count": 7,
   "metadata": {},
   "outputs": [],
   "source": [
    "# encode chars to num\n",
    "encoder = {char: ind for ind,char in decoder.items()}"
   ]
  },
  {
   "cell_type": "code",
   "execution_count": 8,
   "metadata": {},
   "outputs": [],
   "source": [
    "# encode all text\n",
    "encoded_text = np.array([encoder[char] for char in text])"
   ]
  },
  {
   "cell_type": "code",
   "execution_count": 9,
   "metadata": {},
   "outputs": [],
   "source": [
    "#encoded_text = torch.tensor([encoder[char] for char in text])"
   ]
  },
  {
   "cell_type": "code",
   "execution_count": 10,
   "metadata": {},
   "outputs": [
    {
     "data": {
      "text/plain": [
       "array([24, 29, 29, 29, 29, 29, 29, 29, 29, 29, 29, 29, 29, 29, 29, 29, 29,\n",
       "       29, 29, 29, 29, 29, 16, 24, 29, 29, 53,  9, 79, 45, 29, 63, 75, 56,\n",
       "        9, 38, 82, 55, 29, 15,  9, 38, 75, 55, 52,  9, 38, 82, 29, 10, 38,\n",
       "       29, 20, 38, 82, 56,  9, 38, 29, 56, 22, 15,  9, 38, 75, 82, 38, 35,\n",
       "       24, 29, 29, 25, 34, 75, 55, 29, 55, 34, 38,  9, 38, 36, 37, 29, 36,\n",
       "       38, 75, 52, 55, 37, 23, 82, 29,  9, 79, 82, 38, 29, 45, 56, 78, 34,\n",
       "       55, 29, 22, 38, 77, 38,  9, 29, 20, 56, 38, 35, 24, 29, 29, 39, 52,\n",
       "       55, 29, 75, 82, 29, 55, 34, 38, 29,  9, 56,  5, 38,  9, 29, 82, 34,\n",
       "       79, 52,  0, 20, 29, 36, 37, 29, 55, 56, 45, 38, 29, 20, 38, 15, 38,\n",
       "       75, 82, 38, 35, 24, 29, 29,  4, 56, 82, 29, 55, 38, 22, 20, 38,  9,\n",
       "       29, 34, 38, 56,  9, 29, 45, 56, 78, 34, 55, 29, 36, 38, 75,  9, 29,\n",
       "       34, 56, 82, 29, 45, 38, 45, 79,  9, 37, 42, 24, 29, 29, 39, 52, 55,\n",
       "       29, 55, 34, 79, 52, 29, 15, 79, 22, 55,  9, 75, 15, 55, 38, 20, 29,\n",
       "       55, 79, 29, 55, 34, 56, 22, 38, 29, 79, 10, 22, 29, 36,  9, 56, 78,\n",
       "       34, 55, 29, 38, 37, 38, 82, 35, 24, 29, 29, 53, 38, 38, 20, 23, 82,\n",
       "       55, 29, 55, 34, 37, 29,  0, 56, 78, 34, 55, 23, 82, 29, 63,  0, 75,\n",
       "       45, 38, 29, 10, 56, 55, 34, 29, 82, 38,  0, 63,  3, 82, 52, 36, 82,\n",
       "       55, 75, 22, 55, 56, 75,  0, 29, 63, 52, 38,  0, 35, 24, 29, 29,  7,\n",
       "       75, 33, 56, 22, 78, 29, 75, 29, 63, 75, 45, 56, 22, 38, 29, 10, 34,\n",
       "       38,  9, 38, 29, 75, 36, 52, 22, 20, 75, 22, 15, 38, 29,  0, 56, 38,\n",
       "       82, 35, 24, 29, 29, 25, 34, 37, 29, 82, 38,  0, 63, 29, 55, 34, 37,\n",
       "       29, 63, 79, 38, 35, 29, 55, 79, 29, 55, 34, 37, 29, 82, 10, 38, 38,\n",
       "       55, 29, 82, 38,  0, 63, 29, 55, 79, 79, 29, 15,  9, 52, 38,  0, 42,\n",
       "       24, 29, 29, 25, 34, 79, 52, 29, 55, 34, 75, 55, 29, 75,  9, 55, 29,\n",
       "       22, 79, 10, 29, 55, 34, 38, 29, 10, 79,  9,  0, 20, 23, 82, 29, 63,\n",
       "        9, 38, 82, 34, 29, 79,  9, 22, 75, 45, 38, 22, 55, 35, 24, 29, 29,\n",
       "       61, 22, 20, 29, 79, 22,  0, 37, 29, 34, 38,  9, 75,  0, 20, 29, 55,\n",
       "       79, 29, 55, 34, 38, 29, 78, 75, 52, 20, 37, 29, 82,  5,  9, 56, 22,\n",
       "       78, 35, 24, 29, 29, 65, 56, 55, 34, 56, 22, 29, 55, 34, 56, 22, 38,\n",
       "       29, 79, 10, 22, 29, 36, 52])"
      ]
     },
     "execution_count": 10,
     "metadata": {},
     "output_type": "execute_result"
    }
   ],
   "source": [
    "# display text when encoded\n",
    "encoded_text[:500]"
   ]
  },
  {
   "cell_type": "markdown",
   "metadata": {},
   "source": [
    "## One Hot Encoding\n",
    "\n",
    "We need to one-hot encode the data inorder for it to work with the network structure. "
   ]
  },
  {
   "cell_type": "code",
   "execution_count": 11,
   "metadata": {},
   "outputs": [],
   "source": [
    "def one_hot_encoder(encoded_text, num_uni_chars):\n",
    "    '''\n",
    "    encoded_text : batch of encoded text\n",
    "    \n",
    "    num_uni_chars = number of unique characters (len(set(text)))\n",
    "    '''\n",
    "    \n",
    "    # METHOD FROM:\n",
    "    # https://stackoverflow.com/questions/29831489/convert-encoded_textay-of-indices-to-1-hot-encoded-numpy-encoded_textay\n",
    "      \n",
    "    # Create a placeholder for zeros.\n",
    "    one_hot = np.zeros((encoded_text.size, num_uni_chars))\n",
    "    \n",
    "    # Convert data type for later use with pytorch (errors if we dont!)\n",
    "    one_hot = one_hot.astype(np.float32)\n",
    "\n",
    "    # Using fancy indexing fill in the 1s at the correct index locations\n",
    "    one_hot[np.arange(one_hot.shape[0]), encoded_text.flatten()] = 1.0\n",
    "    \n",
    "\n",
    "    # Reshape it so it matches the batch sahe\n",
    "    one_hot = one_hot.reshape((*encoded_text.shape, num_uni_chars))\n",
    "    \n",
    "    return one_hot"
   ]
  },
  {
   "cell_type": "code",
   "execution_count": 12,
   "metadata": {},
   "outputs": [
    {
     "data": {
      "text/plain": [
       "array([[0., 1., 0.],\n",
       "       [0., 0., 1.],\n",
       "       [1., 0., 0.]], dtype=float32)"
      ]
     },
     "execution_count": 12,
     "metadata": {},
     "output_type": "execute_result"
    }
   ],
   "source": [
    "one_hot_encoder(np.array([1,2,0]),3)"
   ]
  },
  {
   "cell_type": "markdown",
   "metadata": {},
   "source": [
    "--------------\n",
    "---------------\n",
    "# Creating Training Batches\n",
    "\n",
    "We need to create a function that will generate batches of characters along with the next character in the sequence as a label.\n",
    "\n",
    "-----------------\n",
    "------------"
   ]
  },
  {
   "cell_type": "code",
   "execution_count": 13,
   "metadata": {},
   "outputs": [],
   "source": [
    "example_text = np.arange(10)"
   ]
  },
  {
   "cell_type": "code",
   "execution_count": 14,
   "metadata": {},
   "outputs": [
    {
     "data": {
      "text/plain": [
       "array([0, 1, 2, 3, 4, 5, 6, 7, 8, 9])"
      ]
     },
     "execution_count": 14,
     "metadata": {},
     "output_type": "execute_result"
    }
   ],
   "source": [
    "example_text"
   ]
  },
  {
   "cell_type": "code",
   "execution_count": 15,
   "metadata": {},
   "outputs": [
    {
     "data": {
      "text/plain": [
       "array([[0, 1],\n",
       "       [2, 3],\n",
       "       [4, 5],\n",
       "       [6, 7],\n",
       "       [8, 9]])"
      ]
     },
     "execution_count": 15,
     "metadata": {},
     "output_type": "execute_result"
    }
   ],
   "source": [
    "# If we wanted 5 batches\n",
    "example_text.reshape((5,-1))"
   ]
  },
  {
   "cell_type": "code",
   "execution_count": 16,
   "metadata": {},
   "outputs": [],
   "source": [
    "def generate_batches(encoded_text, samp_per_batch=10, seq_len=50):\n",
    "    \n",
    "    '''\n",
    "    Generate (using yield) batches for training.\n",
    "    \n",
    "    X: Encoded Text of length seq_len\n",
    "    Y: Encoded Text shifted by one\n",
    "    \n",
    "    Example:\n",
    "    \n",
    "    X:\n",
    "    \n",
    "    [[1 2 3]]\n",
    "    \n",
    "    Y:\n",
    "    \n",
    "    [[ 2 3 4]]\n",
    "    \n",
    "    encoded_text : Complete Encoded Text to make batches from\n",
    "    batch_size : Number of samples per batch\n",
    "    seq_len : Length of character sequence\n",
    "       \n",
    "    '''\n",
    "    \n",
    "    # Total number of characters per batch\n",
    "    # Example: If samp_per_batch is 2 and seq_len is 50, then 100\n",
    "    # characters come out per batch.\n",
    "    char_per_batch = samp_per_batch * seq_len\n",
    "    \n",
    "    \n",
    "    # Number of batches available to make\n",
    "    # Use int() to roun to nearest integer\n",
    "    num_batches_avail = int(len(encoded_text)/char_per_batch)\n",
    "    \n",
    "    # Cut off end of encoded_text that\n",
    "    # won't fit evenly into a batch\n",
    "    encoded_text = encoded_text[:num_batches_avail * char_per_batch]\n",
    "    \n",
    "    \n",
    "    # Reshape text into rows the size of a batch\n",
    "    encoded_text = encoded_text.reshape((samp_per_batch, -1))\n",
    "    \n",
    "\n",
    "    # Go through each row in array.\n",
    "    for n in range(0, encoded_text.shape[1], seq_len):\n",
    "        \n",
    "        # Grab feature characters\n",
    "        x = encoded_text[:, n:n+seq_len]\n",
    "        \n",
    "        # y is the target shifted over by 1\n",
    "        y = np.zeros_like(x)\n",
    "       \n",
    "        #\n",
    "        try:\n",
    "            y[:, :-1] = x[:, 1:]\n",
    "            y[:, -1]  = encoded_text[:, n+seq_len]\n",
    "            \n",
    "        # FOR POTENTIAL INDEXING ERROR AT THE END    \n",
    "        except:\n",
    "            y[:, :-1] = x[:, 1:]\n",
    "            y[:, -1] = encoded_text[:, 0]\n",
    "            \n",
    "        yield x, y"
   ]
  },
  {
   "cell_type": "markdown",
   "metadata": {},
   "source": [
    "### Example of generating a batch"
   ]
  },
  {
   "cell_type": "code",
   "execution_count": 17,
   "metadata": {},
   "outputs": [],
   "source": [
    "sample_text = encoded_text[:20]"
   ]
  },
  {
   "cell_type": "code",
   "execution_count": 18,
   "metadata": {},
   "outputs": [
    {
     "data": {
      "text/plain": [
       "array([24, 29, 29, 29, 29, 29, 29, 29, 29, 29, 29, 29, 29, 29, 29, 29, 29,\n",
       "       29, 29, 29])"
      ]
     },
     "execution_count": 18,
     "metadata": {},
     "output_type": "execute_result"
    }
   ],
   "source": [
    "sample_text"
   ]
  },
  {
   "cell_type": "code",
   "execution_count": 19,
   "metadata": {},
   "outputs": [],
   "source": [
    "batch_generator = generate_batches(sample_text,samp_per_batch=2,seq_len=5)"
   ]
  },
  {
   "cell_type": "code",
   "execution_count": 20,
   "metadata": {},
   "outputs": [],
   "source": [
    "# Grab first batch\n",
    "x, y = next(batch_generator)"
   ]
  },
  {
   "cell_type": "code",
   "execution_count": 21,
   "metadata": {},
   "outputs": [
    {
     "data": {
      "text/plain": [
       "array([[24, 29, 29, 29, 29],\n",
       "       [29, 29, 29, 29, 29]])"
      ]
     },
     "execution_count": 21,
     "metadata": {},
     "output_type": "execute_result"
    }
   ],
   "source": [
    "x"
   ]
  },
  {
   "cell_type": "code",
   "execution_count": 22,
   "metadata": {},
   "outputs": [
    {
     "data": {
      "text/plain": [
       "array([[29, 29, 29, 29, 29],\n",
       "       [29, 29, 29, 29, 29]])"
      ]
     },
     "execution_count": 22,
     "metadata": {},
     "output_type": "execute_result"
    }
   ],
   "source": [
    "y"
   ]
  },
  {
   "cell_type": "markdown",
   "metadata": {},
   "source": [
    "--------"
   ]
  },
  {
   "cell_type": "markdown",
   "metadata": {},
   "source": [
    "## GPU Check\n",
    "\n",
    "Remember this will take a lot longer on CPU!"
   ]
  },
  {
   "cell_type": "code",
   "execution_count": 23,
   "metadata": {},
   "outputs": [
    {
     "data": {
      "text/plain": [
       "True"
      ]
     },
     "execution_count": 23,
     "metadata": {},
     "output_type": "execute_result"
    }
   ],
   "source": [
    "torch.cuda.is_available()"
   ]
  },
  {
   "cell_type": "markdown",
   "metadata": {},
   "source": [
    "# Creating the LSTM Model\n",
    "\n",
    "**Note! We will have options for GPU users and CPU users. CPU will take MUCH LONGER to train and you may encounter RAM issues depending on your hardware. If that is the case, consider using cloud services like AWS, GCP, or Azure. Note, these may cost you money to use!**"
   ]
  },
  {
   "cell_type": "code",
   "execution_count": 24,
   "metadata": {},
   "outputs": [],
   "source": [
    "class CharModel(nn.Module):\n",
    "    \n",
    "    def __init__(self, all_chars, num_hidden=256, num_layers=4,drop_prob=0.5,use_gpu=False):\n",
    "        \n",
    "        \n",
    "        # SET UP ATTRIBUTES\n",
    "        super().__init__()\n",
    "        self.drop_prob = drop_prob\n",
    "        self.num_layers = num_layers\n",
    "        self.num_hidden = num_hidden\n",
    "        self.use_gpu = use_gpu\n",
    "        \n",
    "        #CHARACTER SET, ENCODER, and DECODER\n",
    "        self.all_chars = all_chars\n",
    "        self.decoder = dict(enumerate(all_chars))\n",
    "        self.encoder = {char: ind for ind,char in decoder.items()}\n",
    "        \n",
    "        \n",
    "        self.lstm = nn.LSTM(len(self.all_chars), num_hidden, num_layers, dropout=drop_prob, batch_first=True)\n",
    "        \n",
    "        self.dropout = nn.Dropout(drop_prob)\n",
    "        \n",
    "        self.fc_linear = nn.Linear(num_hidden, len(self.all_chars))\n",
    "      \n",
    "    \n",
    "    def forward(self, x, hidden):\n",
    "                  \n",
    "        \n",
    "        lstm_output, hidden = self.lstm(x, hidden)\n",
    "        \n",
    "        \n",
    "        drop_output = self.dropout(lstm_output)\n",
    "        \n",
    "        drop_output = drop_output.contiguous().view(-1, self.num_hidden)\n",
    "        \n",
    "        \n",
    "        final_out = self.fc_linear(drop_output)\n",
    "        \n",
    "        \n",
    "        return final_out, hidden\n",
    "    \n",
    "    \n",
    "    def hidden_state(self, batch_size):\n",
    "        '''\n",
    "        Used as separate method to account for both GPU and CPU users.\n",
    "        '''\n",
    "        \n",
    "        if self.use_gpu:\n",
    "            \n",
    "            hidden = (torch.zeros(self.num_layers,batch_size,self.num_hidden).cuda(),\n",
    "                     torch.zeros(self.num_layers,batch_size,self.num_hidden).cuda())\n",
    "        else:\n",
    "            hidden = (torch.zeros(self.num_layers,batch_size,self.num_hidden),\n",
    "                     torch.zeros(self.num_layers,batch_size,self.num_hidden))\n",
    "        \n",
    "        return hidden\n",
    "        "
   ]
  },
  {
   "cell_type": "markdown",
   "metadata": {},
   "source": [
    "## Instance of the Model"
   ]
  },
  {
   "cell_type": "code",
   "execution_count": 25,
   "metadata": {},
   "outputs": [],
   "source": [
    "model = CharModel(\n",
    "    all_chars=all_characters,\n",
    "    num_hidden=512,\n",
    "    num_layers=3,\n",
    "    drop_prob=0.5,\n",
    "    use_gpu=True,\n",
    ")"
   ]
  },
  {
   "cell_type": "code",
   "execution_count": 26,
   "metadata": {},
   "outputs": [],
   "source": [
    "total_param  = []\n",
    "for p in model.parameters():\n",
    "    total_param.append(int(p.numel()))"
   ]
  },
  {
   "cell_type": "markdown",
   "metadata": {},
   "source": [
    "Try to make the total_parameters be roughly the same magnitude as the number of characters in the text."
   ]
  },
  {
   "cell_type": "code",
   "execution_count": 27,
   "metadata": {},
   "outputs": [
    {
     "data": {
      "text/plain": [
       "5470292"
      ]
     },
     "execution_count": 27,
     "metadata": {},
     "output_type": "execute_result"
    }
   ],
   "source": [
    "sum(total_param)"
   ]
  },
  {
   "cell_type": "code",
   "execution_count": 28,
   "metadata": {},
   "outputs": [
    {
     "data": {
      "text/plain": [
       "5445609"
      ]
     },
     "execution_count": 28,
     "metadata": {},
     "output_type": "execute_result"
    }
   ],
   "source": [
    "len(encoded_text)"
   ]
  },
  {
   "cell_type": "markdown",
   "metadata": {},
   "source": [
    "### Optimizer and Loss"
   ]
  },
  {
   "cell_type": "code",
   "execution_count": 29,
   "metadata": {},
   "outputs": [],
   "source": [
    "optimizer = torch.optim.Adam(model.parameters(),lr=0.001)\n",
    "criterion = nn.CrossEntropyLoss()"
   ]
  },
  {
   "cell_type": "markdown",
   "metadata": {},
   "source": [
    "## Training Data and Validation Data"
   ]
  },
  {
   "cell_type": "code",
   "execution_count": 30,
   "metadata": {},
   "outputs": [],
   "source": [
    "# percentage of data to be used for training\n",
    "train_percent = 0.1"
   ]
  },
  {
   "cell_type": "code",
   "execution_count": 31,
   "metadata": {},
   "outputs": [
    {
     "data": {
      "text/plain": [
       "5445609"
      ]
     },
     "execution_count": 31,
     "metadata": {},
     "output_type": "execute_result"
    }
   ],
   "source": [
    "len(encoded_text)"
   ]
  },
  {
   "cell_type": "code",
   "execution_count": 32,
   "metadata": {},
   "outputs": [
    {
     "data": {
      "text/plain": [
       "544560"
      ]
     },
     "execution_count": 32,
     "metadata": {},
     "output_type": "execute_result"
    }
   ],
   "source": [
    "int(len(encoded_text) * (train_percent))"
   ]
  },
  {
   "cell_type": "code",
   "execution_count": 33,
   "metadata": {},
   "outputs": [],
   "source": [
    "train_ind = int(len(encoded_text) * (train_percent))"
   ]
  },
  {
   "cell_type": "code",
   "execution_count": 34,
   "metadata": {},
   "outputs": [],
   "source": [
    "train_data = encoded_text[:train_ind]\n",
    "val_data = encoded_text[train_ind:]"
   ]
  },
  {
   "cell_type": "markdown",
   "metadata": {},
   "source": [
    "# Training the Network"
   ]
  },
  {
   "cell_type": "markdown",
   "metadata": {},
   "source": [
    "## Variables\n",
    "\n",
    "Feel free to play around with these values!"
   ]
  },
  {
   "cell_type": "code",
   "execution_count": 35,
   "metadata": {},
   "outputs": [
    {
     "data": {
      "text/plain": [
       "84"
      ]
     },
     "execution_count": 35,
     "metadata": {},
     "output_type": "execute_result"
    }
   ],
   "source": [
    "## VARIABLES\n",
    "\n",
    "# Epochs to train for\n",
    "epochs = 50\n",
    "# batch size \n",
    "batch_size = 128\n",
    "\n",
    "# Length of sequence\n",
    "seq_len = 100\n",
    "\n",
    "# for printing report purposes\n",
    "# always start at 0\n",
    "tracker = 0\n",
    "\n",
    "# number of characters in text\n",
    "num_char = max(encoded_text)+1\n",
    "num_char "
   ]
  },
  {
   "cell_type": "markdown",
   "metadata": {},
   "source": [
    "------"
   ]
  },
  {
   "cell_type": "code",
   "execution_count": 36,
   "metadata": {},
   "outputs": [
    {
     "name": "stdout",
     "output_type": "stream",
     "text": [
      "Epoch: 0 Step: 25 Val Loss: 3.2387239933013916\n",
      "Epoch: 1 Step: 50 Val Loss: 3.2339115142822266\n",
      "Epoch: 1 Step: 75 Val Loss: 3.2166528701782227\n",
      "Epoch: 2 Step: 100 Val Loss: 3.0681467056274414\n",
      "Epoch: 2 Step: 125 Val Loss: 2.968043327331543\n",
      "Epoch: 3 Step: 150 Val Loss: 2.803651809692383\n",
      "Epoch: 4 Step: 175 Val Loss: 2.698382616043091\n",
      "Epoch: 4 Step: 200 Val Loss: 2.5822930335998535\n",
      "Epoch: 5 Step: 225 Val Loss: 2.4610958099365234\n",
      "Epoch: 5 Step: 250 Val Loss: 2.3478972911834717\n",
      "Epoch: 6 Step: 275 Val Loss: 2.2662200927734375\n",
      "Epoch: 7 Step: 300 Val Loss: 2.2091410160064697\n",
      "Epoch: 7 Step: 325 Val Loss: 2.158705472946167\n",
      "Epoch: 8 Step: 350 Val Loss: 2.118455410003662\n",
      "Epoch: 8 Step: 375 Val Loss: 2.0884435176849365\n",
      "Epoch: 9 Step: 400 Val Loss: 2.057347536087036\n",
      "Epoch: 10 Step: 425 Val Loss: 2.0339696407318115\n",
      "Epoch: 10 Step: 450 Val Loss: 2.0089664459228516\n",
      "Epoch: 11 Step: 475 Val Loss: 1.9839364290237427\n",
      "Epoch: 11 Step: 500 Val Loss: 1.9574096202850342\n",
      "Epoch: 12 Step: 525 Val Loss: 1.9453810453414917\n",
      "Epoch: 13 Step: 550 Val Loss: 1.9301420450210571\n",
      "Epoch: 13 Step: 575 Val Loss: 1.9109152555465698\n",
      "Epoch: 14 Step: 600 Val Loss: 1.9008480310440063\n",
      "Epoch: 14 Step: 625 Val Loss: 1.8783100843429565\n",
      "Epoch: 15 Step: 650 Val Loss: 1.8732472658157349\n",
      "Epoch: 16 Step: 675 Val Loss: 1.8633438348770142\n",
      "Epoch: 16 Step: 700 Val Loss: 1.8454471826553345\n",
      "Epoch: 17 Step: 725 Val Loss: 1.8289622068405151\n",
      "Epoch: 17 Step: 750 Val Loss: 1.8273882865905762\n",
      "Epoch: 18 Step: 775 Val Loss: 1.824344515800476\n",
      "Epoch: 19 Step: 800 Val Loss: 1.8039475679397583\n",
      "Epoch: 19 Step: 825 Val Loss: 1.8071000576019287\n",
      "Epoch: 20 Step: 850 Val Loss: 1.7883762121200562\n",
      "Epoch: 20 Step: 875 Val Loss: 1.7880427837371826\n",
      "Epoch: 21 Step: 900 Val Loss: 1.783279538154602\n",
      "Epoch: 22 Step: 925 Val Loss: 1.769225001335144\n",
      "Epoch: 22 Step: 950 Val Loss: 1.7660833597183228\n",
      "Epoch: 23 Step: 975 Val Loss: 1.7565525770187378\n",
      "Epoch: 23 Step: 1000 Val Loss: 1.7595826387405396\n",
      "Epoch: 24 Step: 1025 Val Loss: 1.7497934103012085\n",
      "Epoch: 24 Step: 1050 Val Loss: 1.750420331954956\n",
      "Epoch: 25 Step: 1075 Val Loss: 1.7443324327468872\n",
      "Epoch: 26 Step: 1100 Val Loss: 1.7371183633804321\n",
      "Epoch: 26 Step: 1125 Val Loss: 1.7405678033828735\n",
      "Epoch: 27 Step: 1150 Val Loss: 1.740119457244873\n",
      "Epoch: 27 Step: 1175 Val Loss: 1.737411379814148\n",
      "Epoch: 28 Step: 1200 Val Loss: 1.731856346130371\n",
      "Epoch: 29 Step: 1225 Val Loss: 1.7293487787246704\n",
      "Epoch: 29 Step: 1250 Val Loss: 1.725812554359436\n",
      "Epoch: 30 Step: 1275 Val Loss: 1.7227212190628052\n",
      "Epoch: 30 Step: 1300 Val Loss: 1.716805100440979\n",
      "Epoch: 31 Step: 1325 Val Loss: 1.713810682296753\n",
      "Epoch: 32 Step: 1350 Val Loss: 1.719385027885437\n",
      "Epoch: 32 Step: 1375 Val Loss: 1.710802435874939\n",
      "Epoch: 33 Step: 1400 Val Loss: 1.7157461643218994\n",
      "Epoch: 33 Step: 1425 Val Loss: 1.7118134498596191\n",
      "Epoch: 34 Step: 1450 Val Loss: 1.7177287340164185\n",
      "Epoch: 35 Step: 1475 Val Loss: 1.7112410068511963\n",
      "Epoch: 35 Step: 1500 Val Loss: 1.7088627815246582\n",
      "Epoch: 36 Step: 1525 Val Loss: 1.7120455503463745\n",
      "Epoch: 36 Step: 1550 Val Loss: 1.7122604846954346\n",
      "Epoch: 37 Step: 1575 Val Loss: 1.7125324010849\n",
      "Epoch: 38 Step: 1600 Val Loss: 1.706607460975647\n",
      "Epoch: 38 Step: 1625 Val Loss: 1.713258981704712\n",
      "Epoch: 39 Step: 1650 Val Loss: 1.7084095478057861\n",
      "Epoch: 39 Step: 1675 Val Loss: 1.7096291780471802\n",
      "Epoch: 40 Step: 1700 Val Loss: 1.7155981063842773\n",
      "Epoch: 41 Step: 1725 Val Loss: 1.7129653692245483\n",
      "Epoch: 41 Step: 1750 Val Loss: 1.7149555683135986\n",
      "Epoch: 42 Step: 1775 Val Loss: 1.7148115634918213\n",
      "Epoch: 42 Step: 1800 Val Loss: 1.7096905708312988\n",
      "Epoch: 43 Step: 1825 Val Loss: 1.7203047275543213\n",
      "Epoch: 44 Step: 1850 Val Loss: 1.7014825344085693\n",
      "Epoch: 44 Step: 1875 Val Loss: 1.718795895576477\n",
      "Epoch: 45 Step: 1900 Val Loss: 1.7105247974395752\n",
      "Epoch: 45 Step: 1925 Val Loss: 1.710118055343628\n",
      "Epoch: 46 Step: 1950 Val Loss: 1.718967318534851\n",
      "Epoch: 47 Step: 1975 Val Loss: 1.7169841527938843\n",
      "Epoch: 47 Step: 2000 Val Loss: 1.737967848777771\n",
      "Epoch: 48 Step: 2025 Val Loss: 1.718348503112793\n",
      "Epoch: 48 Step: 2050 Val Loss: 1.7256556749343872\n",
      "Epoch: 49 Step: 2075 Val Loss: 1.7216768264770508\n",
      "Epoch: 49 Step: 2100 Val Loss: 1.7288317680358887\n"
     ]
    }
   ],
   "source": [
    "# Set model to train\n",
    "model.train()\n",
    "\n",
    "\n",
    "# Check to see if using GPU\n",
    "if model.use_gpu:\n",
    "    model.cuda()\n",
    "\n",
    "for i in range(epochs):\n",
    "    \n",
    "    hidden = model.hidden_state(batch_size)\n",
    "    \n",
    "    \n",
    "    for x,y in generate_batches(train_data,batch_size,seq_len):\n",
    "        \n",
    "        tracker += 1\n",
    "        \n",
    "        # One Hot Encode incoming data\n",
    "        x = one_hot_encoder(x,num_char)\n",
    "        \n",
    "        # Convert Numpy Arrays to Tensor      \n",
    "        inputs = torch.from_numpy(x)\n",
    "        targets = torch.from_numpy(y)\n",
    "        \n",
    "        # Adjust for GPU if necessary     \n",
    "        if model.use_gpu:\n",
    "            \n",
    "            inputs = inputs.cuda()\n",
    "            targets = targets.cuda()\n",
    "            \n",
    "        # Reset Hidden State\n",
    "        # If we dont' reset we would backpropagate through all training history\n",
    "        hidden = tuple([state.data for state in hidden])\n",
    "        \n",
    "        model.zero_grad()\n",
    "        \n",
    "        lstm_output, hidden = model.forward(inputs,hidden)\n",
    "        loss = criterion(lstm_output,targets.view(batch_size*seq_len).long())\n",
    "        \n",
    "        loss.backward()\n",
    "        \n",
    "        # POSSIBLE EXPLODING GRADIENT PROBLEM!\n",
    "        # LET\"S CLIP JUST IN CASE\n",
    "        nn.utils.clip_grad_norm_(model.parameters(),max_norm=5)\n",
    "        \n",
    "        optimizer.step()\n",
    "        \n",
    "        \n",
    "        \n",
    "        ###################################\n",
    "        ### CHECK ON VALIDATION SET ######\n",
    "        #################################\n",
    "        \n",
    "        if tracker % 25 == 0:\n",
    "            \n",
    "            val_hidden = model.hidden_state(batch_size)\n",
    "            val_losses = []\n",
    "            model.eval()\n",
    "            \n",
    "            for x,y in generate_batches(val_data,batch_size,seq_len):\n",
    "                \n",
    "                # One Hot Encode incoming data\n",
    "                x = one_hot_encoder(x,num_char)\n",
    "                \n",
    "                # Convert Numpy Arrays to Tensor\n",
    "                inputs = torch.from_numpy(x)\n",
    "                targets = torch.from_numpy(y)\n",
    "\n",
    "                # Adjust for GPU if necessary\n",
    "\n",
    "                if model.use_gpu:\n",
    "\n",
    "                    inputs = inputs.cuda()\n",
    "                    targets = targets.cuda()\n",
    "                    \n",
    "                # Reset Hidden State\n",
    "                # If we dont' reset we would backpropagate through \n",
    "                # all training history\n",
    "                val_hidden = tuple([state.data for state in val_hidden])\n",
    "                \n",
    "                lstm_output, val_hidden = model.forward(inputs,val_hidden)\n",
    "                val_loss = criterion(lstm_output,targets.view(batch_size*seq_len).long())\n",
    "        \n",
    "                val_losses.append(val_loss.item())\n",
    "            \n",
    "            # Reset to training model after val for loop\n",
    "            model.train()\n",
    "            \n",
    "            print(f\"Epoch: {i} Step: {tracker} Val Loss: {val_loss.item()}\")"
   ]
  },
  {
   "cell_type": "markdown",
   "metadata": {},
   "source": [
    "-------\n",
    "\n",
    "## Saving the Model"
   ]
  },
  {
   "cell_type": "code",
   "execution_count": 44,
   "metadata": {},
   "outputs": [],
   "source": [
    "model_name = 'example.net'"
   ]
  },
  {
   "cell_type": "code",
   "execution_count": 45,
   "metadata": {},
   "outputs": [],
   "source": [
    "torch.save(model.state_dict(),model_name)"
   ]
  },
  {
   "cell_type": "markdown",
   "metadata": {},
   "source": [
    "## Load Model"
   ]
  },
  {
   "cell_type": "code",
   "execution_count": 46,
   "metadata": {},
   "outputs": [],
   "source": [
    "# MUST MATCH THE EXACT SAME SETTINGS AS MODEL USED DURING TRAINING!\n",
    "model = CharModel(\n",
    "    all_chars=all_characters,\n",
    "    num_hidden=512,\n",
    "    num_layers=3,\n",
    "    drop_prob=0.5,\n",
    "    use_gpu=True,\n",
    ")"
   ]
  },
  {
   "cell_type": "code",
   "execution_count": 47,
   "metadata": {},
   "outputs": [
    {
     "data": {
      "text/plain": [
       "CharModel(\n",
       "  (lstm): LSTM(84, 512, num_layers=3, batch_first=True, dropout=0.5)\n",
       "  (dropout): Dropout(p=0.5)\n",
       "  (fc_linear): Linear(in_features=512, out_features=84, bias=True)\n",
       ")"
      ]
     },
     "execution_count": 47,
     "metadata": {},
     "output_type": "execute_result"
    }
   ],
   "source": [
    "model.load_state_dict(torch.load(model_name))\n",
    "model.eval()"
   ]
  },
  {
   "cell_type": "markdown",
   "metadata": {},
   "source": [
    "# Generating Predictions"
   ]
  },
  {
   "cell_type": "markdown",
   "metadata": {},
   "source": [
    "--------"
   ]
  },
  {
   "cell_type": "code",
   "execution_count": 48,
   "metadata": {},
   "outputs": [],
   "source": [
    "def predict_next_char(model, char, hidden=None, k=1):\n",
    "        \n",
    "        # Encode raw letters with model\n",
    "        encoded_text = model.encoder[char]\n",
    "        \n",
    "        # set as numpy array for one hot encoding\n",
    "        # NOTE THE [[ ]] dimensions!!\n",
    "        encoded_text = np.array([[encoded_text]])\n",
    "        \n",
    "        # One hot encoding\n",
    "        encoded_text = one_hot_encoder(encoded_text, len(model.all_chars))\n",
    "        \n",
    "        # Convert to Tensor\n",
    "        inputs = torch.from_numpy(encoded_text)\n",
    "        \n",
    "        # Check for CPU\n",
    "        if(model.use_gpu):\n",
    "            inputs = inputs.cuda()\n",
    "        \n",
    "        \n",
    "        # Grab hidden states\n",
    "        hidden = tuple([state.data for state in hidden])\n",
    "        \n",
    "        \n",
    "        # Run model and get predicted output\n",
    "        lstm_out, hidden = model(inputs, hidden)\n",
    "      \n",
    "        # Convert lstm_out to probabilities\n",
    "        probs = F.softmax(lstm_out, dim=1).data\n",
    "              \n",
    "        if(model.use_gpu):\n",
    "            # move back to CPU to use with numpy\n",
    "            probs = probs.cpu()\n",
    "        \n",
    "              \n",
    "        # Return k largest probabilities in tensor. k determines how many characters to consider\n",
    "        # for our probability choice.\n",
    "        probs, index_positions = probs.topk(k)\n",
    "        \n",
    "        \n",
    "        index_positions = index_positions.numpy().squeeze()\n",
    "        \n",
    "        # Create array of probabilities\n",
    "        probs = probs.numpy().flatten()\n",
    "        \n",
    "        # Convert to probabilities per index\n",
    "        probs = probs/probs.sum()\n",
    "        \n",
    "        # randomly choose a character based on probabilities\n",
    "        char = np.random.choice(index_positions, p=probs)\n",
    "       \n",
    "        # return the encoded value of the predicted char and the hidden state\n",
    "        return model.decoder[char], hidden"
   ]
  },
  {
   "cell_type": "code",
   "execution_count": 49,
   "metadata": {},
   "outputs": [],
   "source": [
    "def generate_text(model, size, seed='The', k=1):\n",
    "         \n",
    "    # CHECK FOR GPU\n",
    "    if(model.use_gpu):\n",
    "        model.cuda()\n",
    "    else:\n",
    "        model.cpu()\n",
    "    \n",
    "    # Evaluation mode\n",
    "    model.eval()\n",
    "    \n",
    "    # begin output from initial seed\n",
    "    output_chars = [c for c in seed]\n",
    "    \n",
    "    # intiate hidden state\n",
    "    hidden = model.hidden_state(1)\n",
    "    \n",
    "    # predict the next character for every character in seed\n",
    "    for char in seed:\n",
    "        char, hidden = predict_next_char(model, char, hidden, k=k)\n",
    "    \n",
    "    # add initial characters to output\n",
    "    output_chars.append(char)\n",
    "    \n",
    "    # Now generate for size requested\n",
    "    for i in range(size):\n",
    "        \n",
    "        # predict based off very last letter in output_chars\n",
    "        char, hidden = predict_next_char(model, output_chars[-1], hidden, k=k)\n",
    "        \n",
    "        # add predicted character\n",
    "        output_chars.append(char)\n",
    "    \n",
    "    # return string of predicted text\n",
    "    return ''.join(output_chars)"
   ]
  },
  {
   "cell_type": "code",
   "execution_count": 50,
   "metadata": {},
   "outputs": [
    {
     "name": "stdout",
     "output_type": "stream",
     "text": [
      "The beauty of my\n",
      "    Shallow to have strong thing that I will neving stand\n",
      "    And shall the beauty which they she died,\n",
      "    The words of trust to the breath the strong and service\n",
      "    That she hath bear me would I was a man.\n",
      "    In my sweet sight thou hast but to my signt,\n",
      "    Whom I will bear the cheeks of more.\n",
      "                                                                                 [Aligum]\n",
      "  CHARMIAN. Where they have spoken to trispess to thee which they have.\n",
      "  CLEOPATRA. I have not song to bear him.\n",
      "    The strength and tree, and there that should\n",
      "    In this that with my son were the state\n",
      "    Than they are stronger than the such that shall be\n",
      "    The beauty's promise of his state of his hands.\n",
      "    The gods shall see my father she was strong\n",
      "    With trees the better shame of self.\n",
      "  CLEOPATRA. Welcome, that we do not be the world with thee.  \n",
      "  COUNTESS. I am, and the strange short as the stronger prayers,\n",
      "    there is not so true than thou shouldst stronger with thee a woo\n"
     ]
    }
   ],
   "source": [
    "print(generate_text(model, 1000, seed='The ', k=3))"
   ]
  },
  {
   "cell_type": "code",
   "execution_count": null,
   "metadata": {},
   "outputs": [],
   "source": []
  }
 ],
 "metadata": {
  "kernelspec": {
   "display_name": "Python 3 (ipykernel)",
   "language": "python",
   "name": "python3"
  },
  "language_info": {
   "codemirror_mode": {
    "name": "ipython",
    "version": 3
   },
   "file_extension": ".py",
   "mimetype": "text/x-python",
   "name": "python",
   "nbconvert_exporter": "python",
   "pygments_lexer": "ipython3",
   "version": "3.7.3"
  }
 },
 "nbformat": 4,
 "nbformat_minor": 2
}
