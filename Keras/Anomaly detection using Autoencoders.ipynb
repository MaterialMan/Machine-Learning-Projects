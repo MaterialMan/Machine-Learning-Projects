{
 "cells": [
  {
   "cell_type": "markdown",
   "metadata": {},
   "source": [
    "# Anomaly detection using Autoencoders\n",
    "\n",
    "In this example, we try to detect anomalies in ECG data using an Autoencoder. "
   ]
  },
  {
   "cell_type": "code",
   "execution_count": 1,
   "metadata": {},
   "outputs": [
    {
     "name": "stdout",
     "output_type": "stream",
     "text": [
      "WARNING:tensorflow:From C:\\Users\\MATTDA~1\\AppData\\Local\\Temp/ipykernel_34644/2184214046.py:14: The name tf.enable_eager_execution is deprecated. Please use tf.compat.v1.enable_eager_execution instead.\n",
      "\n"
     ]
    }
   ],
   "source": [
    "import numpy as np\n",
    "import pandas as pd\n",
    "import tensorflow as tf\n",
    "\n",
    "import matplotlib.pyplot as plt\n",
    "from sklearn.metrics import accuracy_score\n",
    "from tensorflow.keras.optimizers import Adam\n",
    "from sklearn.preprocessing import MinMaxScaler\n",
    "from tensorflow.keras import Model, Sequential\n",
    "from tensorflow.keras.layers import Dense, Dropout\n",
    "from sklearn.model_selection import train_test_split\n",
    "from tensorflow.keras.losses import MeanSquaredLogarithmicError\n",
    "\n",
    "tf.enable_eager_execution()\n",
    "#tf.compat.v1.enable_eager_execution"
   ]
  },
  {
   "cell_type": "code",
   "execution_count": 2,
   "metadata": {},
   "outputs": [
    {
     "name": "stdout",
     "output_type": "stream",
     "text": [
      "(4998, 141)\n"
     ]
    },
    {
     "data": {
      "text/html": [
       "<div>\n",
       "<style scoped>\n",
       "    .dataframe tbody tr th:only-of-type {\n",
       "        vertical-align: middle;\n",
       "    }\n",
       "\n",
       "    .dataframe tbody tr th {\n",
       "        vertical-align: top;\n",
       "    }\n",
       "\n",
       "    .dataframe thead th {\n",
       "        text-align: right;\n",
       "    }\n",
       "</style>\n",
       "<table border=\"1\" class=\"dataframe\">\n",
       "  <thead>\n",
       "    <tr style=\"text-align: right;\">\n",
       "      <th></th>\n",
       "      <th>0</th>\n",
       "      <th>1</th>\n",
       "      <th>2</th>\n",
       "      <th>3</th>\n",
       "      <th>4</th>\n",
       "      <th>5</th>\n",
       "      <th>6</th>\n",
       "      <th>7</th>\n",
       "      <th>8</th>\n",
       "      <th>9</th>\n",
       "      <th>...</th>\n",
       "      <th>131</th>\n",
       "      <th>132</th>\n",
       "      <th>133</th>\n",
       "      <th>134</th>\n",
       "      <th>135</th>\n",
       "      <th>136</th>\n",
       "      <th>137</th>\n",
       "      <th>138</th>\n",
       "      <th>139</th>\n",
       "      <th>140</th>\n",
       "    </tr>\n",
       "  </thead>\n",
       "  <tbody>\n",
       "    <tr>\n",
       "      <th>0</th>\n",
       "      <td>-0.112522</td>\n",
       "      <td>-2.827204</td>\n",
       "      <td>-3.773897</td>\n",
       "      <td>-4.349751</td>\n",
       "      <td>-4.376041</td>\n",
       "      <td>-3.474986</td>\n",
       "      <td>-2.181408</td>\n",
       "      <td>-1.818287</td>\n",
       "      <td>-1.250522</td>\n",
       "      <td>-0.477492</td>\n",
       "      <td>...</td>\n",
       "      <td>0.792168</td>\n",
       "      <td>0.933541</td>\n",
       "      <td>0.796958</td>\n",
       "      <td>0.578621</td>\n",
       "      <td>0.257740</td>\n",
       "      <td>0.228077</td>\n",
       "      <td>0.123431</td>\n",
       "      <td>0.925286</td>\n",
       "      <td>0.193137</td>\n",
       "      <td>1.0</td>\n",
       "    </tr>\n",
       "    <tr>\n",
       "      <th>1</th>\n",
       "      <td>-1.100878</td>\n",
       "      <td>-3.996840</td>\n",
       "      <td>-4.285843</td>\n",
       "      <td>-4.506579</td>\n",
       "      <td>-4.022377</td>\n",
       "      <td>-3.234368</td>\n",
       "      <td>-1.566126</td>\n",
       "      <td>-0.992258</td>\n",
       "      <td>-0.754680</td>\n",
       "      <td>0.042321</td>\n",
       "      <td>...</td>\n",
       "      <td>0.538356</td>\n",
       "      <td>0.656881</td>\n",
       "      <td>0.787490</td>\n",
       "      <td>0.724046</td>\n",
       "      <td>0.555784</td>\n",
       "      <td>0.476333</td>\n",
       "      <td>0.773820</td>\n",
       "      <td>1.119621</td>\n",
       "      <td>-1.436250</td>\n",
       "      <td>1.0</td>\n",
       "    </tr>\n",
       "    <tr>\n",
       "      <th>2</th>\n",
       "      <td>-0.567088</td>\n",
       "      <td>-2.593450</td>\n",
       "      <td>-3.874230</td>\n",
       "      <td>-4.584095</td>\n",
       "      <td>-4.187449</td>\n",
       "      <td>-3.151462</td>\n",
       "      <td>-1.742940</td>\n",
       "      <td>-1.490658</td>\n",
       "      <td>-1.183580</td>\n",
       "      <td>-0.394229</td>\n",
       "      <td>...</td>\n",
       "      <td>0.886073</td>\n",
       "      <td>0.531452</td>\n",
       "      <td>0.311377</td>\n",
       "      <td>-0.021919</td>\n",
       "      <td>-0.713683</td>\n",
       "      <td>-0.532197</td>\n",
       "      <td>0.321097</td>\n",
       "      <td>0.904227</td>\n",
       "      <td>-0.421797</td>\n",
       "      <td>1.0</td>\n",
       "    </tr>\n",
       "    <tr>\n",
       "      <th>3</th>\n",
       "      <td>0.490473</td>\n",
       "      <td>-1.914407</td>\n",
       "      <td>-3.616364</td>\n",
       "      <td>-4.318823</td>\n",
       "      <td>-4.268016</td>\n",
       "      <td>-3.881110</td>\n",
       "      <td>-2.993280</td>\n",
       "      <td>-1.671131</td>\n",
       "      <td>-1.333884</td>\n",
       "      <td>-0.965629</td>\n",
       "      <td>...</td>\n",
       "      <td>0.350816</td>\n",
       "      <td>0.499111</td>\n",
       "      <td>0.600345</td>\n",
       "      <td>0.842069</td>\n",
       "      <td>0.952074</td>\n",
       "      <td>0.990133</td>\n",
       "      <td>1.086798</td>\n",
       "      <td>1.403011</td>\n",
       "      <td>-0.383564</td>\n",
       "      <td>1.0</td>\n",
       "    </tr>\n",
       "    <tr>\n",
       "      <th>4</th>\n",
       "      <td>0.800232</td>\n",
       "      <td>-0.874252</td>\n",
       "      <td>-2.384761</td>\n",
       "      <td>-3.973292</td>\n",
       "      <td>-4.338224</td>\n",
       "      <td>-3.802422</td>\n",
       "      <td>-2.534510</td>\n",
       "      <td>-1.783423</td>\n",
       "      <td>-1.594450</td>\n",
       "      <td>-0.753199</td>\n",
       "      <td>...</td>\n",
       "      <td>1.148884</td>\n",
       "      <td>0.958434</td>\n",
       "      <td>1.059025</td>\n",
       "      <td>1.371682</td>\n",
       "      <td>1.277392</td>\n",
       "      <td>0.960304</td>\n",
       "      <td>0.971020</td>\n",
       "      <td>1.614392</td>\n",
       "      <td>1.421456</td>\n",
       "      <td>1.0</td>\n",
       "    </tr>\n",
       "  </tbody>\n",
       "</table>\n",
       "<p>5 rows × 141 columns</p>\n",
       "</div>"
      ],
      "text/plain": [
       "        0         1         2         3         4         5         6    \\\n",
       "0 -0.112522 -2.827204 -3.773897 -4.349751 -4.376041 -3.474986 -2.181408   \n",
       "1 -1.100878 -3.996840 -4.285843 -4.506579 -4.022377 -3.234368 -1.566126   \n",
       "2 -0.567088 -2.593450 -3.874230 -4.584095 -4.187449 -3.151462 -1.742940   \n",
       "3  0.490473 -1.914407 -3.616364 -4.318823 -4.268016 -3.881110 -2.993280   \n",
       "4  0.800232 -0.874252 -2.384761 -3.973292 -4.338224 -3.802422 -2.534510   \n",
       "\n",
       "        7         8         9    ...       131       132       133       134  \\\n",
       "0 -1.818287 -1.250522 -0.477492  ...  0.792168  0.933541  0.796958  0.578621   \n",
       "1 -0.992258 -0.754680  0.042321  ...  0.538356  0.656881  0.787490  0.724046   \n",
       "2 -1.490658 -1.183580 -0.394229  ...  0.886073  0.531452  0.311377 -0.021919   \n",
       "3 -1.671131 -1.333884 -0.965629  ...  0.350816  0.499111  0.600345  0.842069   \n",
       "4 -1.783423 -1.594450 -0.753199  ...  1.148884  0.958434  1.059025  1.371682   \n",
       "\n",
       "        135       136       137       138       139  140  \n",
       "0  0.257740  0.228077  0.123431  0.925286  0.193137  1.0  \n",
       "1  0.555784  0.476333  0.773820  1.119621 -1.436250  1.0  \n",
       "2 -0.713683 -0.532197  0.321097  0.904227 -0.421797  1.0  \n",
       "3  0.952074  0.990133  1.086798  1.403011 -0.383564  1.0  \n",
       "4  1.277392  0.960304  0.971020  1.614392  1.421456  1.0  \n",
       "\n",
       "[5 rows x 141 columns]"
      ]
     },
     "execution_count": 2,
     "metadata": {},
     "output_type": "execute_result"
    }
   ],
   "source": [
    "# Download the dataset\n",
    "data = pd.read_csv('http://storage.googleapis.com/download.tensorflow.org/data/ecg.csv', header=None)\n",
    "print(data.shape)\n",
    "data.head()"
   ]
  },
  {
   "cell_type": "markdown",
   "metadata": {},
   "source": [
    "## Split and format the data"
   ]
  },
  {
   "cell_type": "code",
   "execution_count": 3,
   "metadata": {},
   "outputs": [],
   "source": [
    "# last column is the target: 0 = anomaly, 1 = normal\n",
    "TARGET = data.shape[1]-1\n",
    "\n",
    "features = data.drop(TARGET, axis=1)\n",
    "target = data[TARGET]\n",
    "\n",
    "x_train, x_test, y_train, y_test = train_test_split(features, target, test_size=0.2, stratify=target)"
   ]
  },
  {
   "cell_type": "code",
   "execution_count": 4,
   "metadata": {},
   "outputs": [
    {
     "name": "stdout",
     "output_type": "stream",
     "text": [
      "Number of use cases:  2335\n"
     ]
    }
   ],
   "source": [
    "# use case is novelty detection so use only the normal data for training\n",
    "train_index = y_train[y_train == 1].index\n",
    "train_data = x_train.loc[train_index]\n",
    "\n",
    "print(\"Number of use cases: \", len(train_index.tolist()))"
   ]
  },
  {
   "cell_type": "markdown",
   "metadata": {},
   "source": [
    "## Scale the data"
   ]
  },
  {
   "cell_type": "code",
   "execution_count": 5,
   "metadata": {},
   "outputs": [
    {
     "data": {
      "text/plain": [
       "(2335, 140)"
      ]
     },
     "execution_count": 5,
     "metadata": {},
     "output_type": "execute_result"
    }
   ],
   "source": [
    "# scale betwee [0 1]\n",
    "min_max_scaler = MinMaxScaler(feature_range=(0, 1))\n",
    "\n",
    "x_train_scaled = min_max_scaler.fit_transform(train_data.copy())\n",
    "x_test_scaled = min_max_scaler.transform(x_test.copy())\n",
    "\n",
    "# show training data shape\n",
    "x_train_scaled.shape"
   ]
  },
  {
   "cell_type": "markdown",
   "metadata": {},
   "source": [
    "## Plot the scaled data"
   ]
  },
  {
   "cell_type": "code",
   "execution_count": 6,
   "metadata": {},
   "outputs": [],
   "source": [
    "# normal data\n",
    "train_index = y_train[y_train == 1].index\n",
    "train_data = x_train.loc[train_index]\n",
    "normal_train_data = pd.DataFrame(train_data)\n",
    "nd_subset = normal_train_data.iloc[0:5]\n",
    "\n",
    "# get anomaly data\n",
    "anom_index = y_train[y_train == 0].index\n",
    "an = x_train.loc[anom_index]\n",
    "anomaly_train_data = pd.DataFrame(an)\n",
    "ad_subset = anomaly_train_data .iloc[0:5]"
   ]
  },
  {
   "cell_type": "code",
   "execution_count": 7,
   "metadata": {},
   "outputs": [
    {
     "data": {
      "text/plain": [
       "Text(0.5, 1.0, 'Anomaly Data')"
      ]
     },
     "execution_count": 7,
     "metadata": {},
     "output_type": "execute_result"
    },
    {
     "data": {
      "image/png": "[encoded data removed]",
      "text/plain": [
       "<Figure size 432x288 with 2 Axes>"
      ]
     },
     "metadata": {
      "needs_background": "light"
     },
     "output_type": "display_data"
    }
   ],
   "source": [
    "fig, (ax1,ax2) = plt.subplots(1,2)\n",
    "\n",
    "ax1.plot(nd_subset.T)\n",
    "ax1.set_title(\"Normal Data\")\n",
    "\n",
    "ax2.plot(ad_subset.T)\n",
    "ax2.set_title(\"Anomaly Data\")"
   ]
  },
  {
   "cell_type": "markdown",
   "metadata": {},
   "source": [
    "## 1. Build the Autoencoder model\n",
    "\n",
    "Create an autoencoder class and train the model."
   ]
  },
  {
   "cell_type": "code",
   "execution_count": 8,
   "metadata": {},
   "outputs": [],
   "source": [
    "# create a model by subclassing Model class in tensorflow\n",
    "class AutoEncoder(Model):\n",
    "  \"\"\"\n",
    "  Parameters\n",
    "  ----------\n",
    "  output_units: int\n",
    "    Number of output units\n",
    "  \n",
    "  code_size: int\n",
    "    Number of units in bottle neck\n",
    "  \"\"\"\n",
    "\n",
    "  def __init__(self, output_units, code_size=8):\n",
    "    super().__init__()\n",
    "    # define encoder part -> relu layers 64-32-16 \n",
    "    self.encoder = Sequential([\n",
    "      Dense(64, activation='relu'),\n",
    "      Dropout(0.1),\n",
    "      Dense(32, activation='relu'),\n",
    "      Dropout(0.1),\n",
    "      Dense(16, activation='relu'),\n",
    "      Dropout(0.1),\n",
    "      Dense(code_size, activation='relu')\n",
    "    ])\n",
    "    # define decoder part -> relu layers 16-32-64\n",
    "    self.decoder = Sequential([\n",
    "      Dense(16, activation='relu'),\n",
    "      Dropout(0.1),\n",
    "      Dense(32, activation='relu'),\n",
    "      Dropout(0.1),\n",
    "      Dense(64, activation='relu'),\n",
    "      Dropout(0.1),\n",
    "      Dense(output_units, activation='sigmoid')\n",
    "    ])\n",
    "  \n",
    "  def call(self, inputs):\n",
    "    encoded = self.encoder(inputs)\n",
    "    decoded = self.decoder(encoded)\n",
    "    return decoded"
   ]
  },
  {
   "cell_type": "markdown",
   "metadata": {},
   "source": [
    "## Train the Autoencoder"
   ]
  },
  {
   "cell_type": "code",
   "execution_count": 9,
   "metadata": {},
   "outputs": [
    {
     "name": "stdout",
     "output_type": "stream",
     "text": [
      "WARNING:tensorflow:Entity <bound method AutoEncoder.call of <__main__.AutoEncoder object at 0x0000022488889898>> could not be transformed and will be executed as-is. Please report this to the AutgoGraph team. When filing the bug, set the verbosity to 10 (on Linux, `export AUTOGRAPH_VERBOSITY=10`) and attach the full output. Cause: converting <bound method AutoEncoder.call of <__main__.AutoEncoder object at 0x0000022488889898>>: AttributeError: module 'gast' has no attribute 'Str'\n",
      "WARNING: Entity <bound method AutoEncoder.call of <__main__.AutoEncoder object at 0x0000022488889898>> could not be transformed and will be executed as-is. Please report this to the AutgoGraph team. When filing the bug, set the verbosity to 10 (on Linux, `export AUTOGRAPH_VERBOSITY=10`) and attach the full output. Cause: converting <bound method AutoEncoder.call of <__main__.AutoEncoder object at 0x0000022488889898>>: AttributeError: module 'gast' has no attribute 'Str'\n",
      "Train on 2335 samples, validate on 1000 samples\n",
      "WARNING:tensorflow:From D:\\Anaconda\\envs\\pytorchenv\\lib\\site-packages\\tensorflow\\python\\ops\\math_grad.py:1250: add_dispatch_support.<locals>.wrapper (from tensorflow.python.ops.array_ops) is deprecated and will be removed in a future version.\n",
      "Instructions for updating:\n",
      "Use tf.where in 2.0, which has the same broadcast rule as np.where\n",
      "Epoch 1/20\n",
      "2335/2335 [==============================] - 1s 417us/sample - loss: 0.0111 - mean_squared_error: 0.0249 - val_loss: 0.0136 - val_mean_squared_error: 0.0316\n",
      "Epoch 2/20\n",
      "2335/2335 [==============================] - 0s 20us/sample - loss: 0.0105 - mean_squared_error: 0.0236 - val_loss: 0.0132 - val_mean_squared_error: 0.0308\n",
      "Epoch 3/20\n",
      "2335/2335 [==============================] - 0s 19us/sample - loss: 0.0096 - mean_squared_error: 0.0216 - val_loss: 0.0130 - val_mean_squared_error: 0.0301\n",
      "Epoch 4/20\n",
      "2335/2335 [==============================] - 0s 18us/sample - loss: 0.0087 - mean_squared_error: 0.0195 - val_loss: 0.0125 - val_mean_squared_error: 0.0292\n",
      "Epoch 5/20\n",
      "2335/2335 [==============================] - 0s 20us/sample - loss: 0.0077 - mean_squared_error: 0.0173 - val_loss: 0.0121 - val_mean_squared_error: 0.0282\n",
      "Epoch 6/20\n",
      "2335/2335 [==============================] - 0s 19us/sample - loss: 0.0069 - mean_squared_error: 0.0155 - val_loss: 0.0117 - val_mean_squared_error: 0.0272\n",
      "Epoch 7/20\n",
      "2335/2335 [==============================] - 0s 20us/sample - loss: 0.0063 - mean_squared_error: 0.0141 - val_loss: 0.0113 - val_mean_squared_error: 0.0262\n",
      "Epoch 8/20\n",
      "2335/2335 [==============================] - 0s 20us/sample - loss: 0.0058 - mean_squared_error: 0.0129 - val_loss: 0.0108 - val_mean_squared_error: 0.0252\n",
      "Epoch 9/20\n",
      "2335/2335 [==============================] - 0s 17us/sample - loss: 0.0055 - mean_squared_error: 0.0122 - val_loss: 0.0105 - val_mean_squared_error: 0.0246\n",
      "Epoch 10/20\n",
      "2335/2335 [==============================] - 0s 18us/sample - loss: 0.0053 - mean_squared_error: 0.0118 - val_loss: 0.0104 - val_mean_squared_error: 0.0242\n",
      "Epoch 11/20\n",
      "2335/2335 [==============================] - 0s 19us/sample - loss: 0.0051 - mean_squared_error: 0.0115 - val_loss: 0.0103 - val_mean_squared_error: 0.0241\n",
      "Epoch 12/20\n",
      "2335/2335 [==============================] - 0s 18us/sample - loss: 0.0050 - mean_squared_error: 0.0113 - val_loss: 0.0103 - val_mean_squared_error: 0.0241\n",
      "Epoch 13/20\n",
      "2335/2335 [==============================] - 0s 21us/sample - loss: 0.0050 - mean_squared_error: 0.0111 - val_loss: 0.0103 - val_mean_squared_error: 0.0240\n",
      "Epoch 14/20\n",
      "2335/2335 [==============================] - 0s 20us/sample - loss: 0.0049 - mean_squared_error: 0.0109 - val_loss: 0.0103 - val_mean_squared_error: 0.0240\n",
      "Epoch 15/20\n",
      "2335/2335 [==============================] - 0s 22us/sample - loss: 0.0049 - mean_squared_error: 0.0108 - val_loss: 0.0102 - val_mean_squared_error: 0.0240\n",
      "Epoch 16/20\n",
      "2335/2335 [==============================] - 0s 22us/sample - loss: 0.0048 - mean_squared_error: 0.0108 - val_loss: 0.0102 - val_mean_squared_error: 0.0240\n",
      "Epoch 17/20\n",
      "2335/2335 [==============================] - 0s 20us/sample - loss: 0.0048 - mean_squared_error: 0.0107 - val_loss: 0.0102 - val_mean_squared_error: 0.0239\n",
      "Epoch 18/20\n",
      "2335/2335 [==============================] - 0s 18us/sample - loss: 0.0047 - mean_squared_error: 0.0106 - val_loss: 0.0102 - val_mean_squared_error: 0.0239\n",
      "Epoch 19/20\n",
      "2335/2335 [==============================] - 0s 19us/sample - loss: 0.0047 - mean_squared_error: 0.0105 - val_loss: 0.0102 - val_mean_squared_error: 0.0239\n",
      "Epoch 20/20\n",
      "2335/2335 [==============================] - 0s 18us/sample - loss: 0.0047 - mean_squared_error: 0.0104 - val_loss: 0.0101 - val_mean_squared_error: 0.0237\n"
     ]
    }
   ],
   "source": [
    "model = AutoEncoder(output_units=x_train_scaled.shape[1])\n",
    "\n",
    "# configurations of model\n",
    "model.compile(loss='msle', metrics=['mse'], optimizer='adam')\n",
    "\n",
    "history = model.fit(\n",
    "    x_train_scaled,\n",
    "    x_train_scaled,\n",
    "    epochs=20,\n",
    "    batch_size=512,\n",
    "    validation_data=(x_test_scaled, x_test_scaled)\n",
    ")"
   ]
  },
  {
   "cell_type": "markdown",
   "metadata": {},
   "source": [
    "## Plot history"
   ]
  },
  {
   "cell_type": "code",
   "execution_count": 10,
   "metadata": {},
   "outputs": [
    {
     "data": {
      "image/png": "[encoded data removed]",
      "text/plain": [
       "<Figure size 432x288 with 1 Axes>"
      ]
     },
     "metadata": {
      "needs_background": "light"
     },
     "output_type": "display_data"
    }
   ],
   "source": [
    "plt.plot(history.history['loss'])\n",
    "plt.plot(history.history['val_loss'])\n",
    "plt.xlabel('Epochs')\n",
    "plt.ylabel('MSLE Loss')\n",
    "plt.legend(['loss', 'val_loss'])\n",
    "plt.show()"
   ]
  },
  {
   "cell_type": "markdown",
   "metadata": {},
   "source": [
    "## Find threshold\n",
    "\n",
    "Find suitable threshold for anomaly scores"
   ]
  },
  {
   "cell_type": "code",
   "execution_count": 11,
   "metadata": {},
   "outputs": [],
   "source": [
    "def find_threshold(model, x_train_scaled):\n",
    "    reconstructions = model.predict(x_train_scaled)\n",
    "    # provides losses of individual instances\n",
    "    reconstruction_errors = tf.keras.losses.msle(reconstructions, x_train_scaled)\n",
    "\n",
    "    # threshold for anomaly scores\n",
    "    threshold = np.mean(reconstruction_errors.numpy()) \\\n",
    "    + np.std(reconstruction_errors.numpy())\n",
    "    return threshold\n",
    "\n",
    "def find_threshold_method_two(model, x_train_scaled):\n",
    "    # another method to find threshold\n",
    "    reconstructions = model.predict(x_train_scaled)\n",
    "    # provides losses of individual instances\n",
    "    reconstruction_errors = tf.keras.losses.msle(reconstructions, x_train_scaled)\n",
    "    threshold_2 = np.percentile(reconstruction_errors, 95)\n",
    "    return threshold_2\n",
    "\n",
    "def get_predictions(model, x_test_scaled, threshold):\n",
    "    predictions = model.predict(x_test_scaled)\n",
    "    # provides losses of individual instances\n",
    "    errors = tf.keras.losses.msle(predictions, x_test_scaled)\n",
    "    # 0 = anomaly, 1 = normal\n",
    "    anomaly_mask = pd.Series(errors) > threshold\n",
    "    preds = anomaly_mask.map(lambda x: 0.0 if x == True else 1.0)\n",
    "    return preds"
   ]
  },
  {
   "cell_type": "code",
   "execution_count": 12,
   "metadata": {},
   "outputs": [
    {
     "name": "stdout",
     "output_type": "stream",
     "text": [
      "Threshold method one: 0.009992843454885006\n",
      "Threshold method two: 0.014339122856651437\n"
     ]
    }
   ],
   "source": [
    "threshold = find_threshold(model, x_train_scaled)\n",
    "print(f\"Threshold method one: {threshold}\")\n",
    "\n",
    "threshold_2 = find_threshold_method_two(model, x_train_scaled)\n",
    "print(f\"Threshold method two: {threshold_2}\")"
   ]
  },
  {
   "cell_type": "code",
   "execution_count": 13,
   "metadata": {},
   "outputs": [
    {
     "data": {
      "text/plain": [
       "0.931"
      ]
     },
     "execution_count": 13,
     "metadata": {},
     "output_type": "execute_result"
    }
   ],
   "source": [
    "preds = get_predictions(model, x_test_scaled, threshold)\n",
    "accuracy_score(preds, y_test)"
   ]
  },
  {
   "cell_type": "markdown",
   "metadata": {},
   "source": [
    "# 2. Tune Autoencoder using Keras tuner\n",
    "\n",
    "In this section, we try Keras' hyperparameter tuning framework. It's a scalable hyperparameter optimization framework for hyperparameter search, i.e., it finds the best hyperparameter values for a given model."
   ]
  },
  {
   "cell_type": "code",
   "execution_count": 14,
   "metadata": {},
   "outputs": [],
   "source": [
    "# Make sure to install keras-tuner\n",
    "#!pip install -U keras-tuner"
   ]
  },
  {
   "cell_type": "code",
   "execution_count": 15,
   "metadata": {},
   "outputs": [],
   "source": [
    "import keras_tuner as kt"
   ]
  },
  {
   "cell_type": "code",
   "execution_count": 16,
   "metadata": {},
   "outputs": [],
   "source": [
    "# Redefine autoencoder class to search for best number of units to use in each layer\n",
    "class AutoEncoderTuner(Model):\n",
    "\n",
    "    def __init__(self, hp, output_units, code_size=8):\n",
    "        super().__init__()\n",
    "        # hyperparameters (hp) being searched - with range [16, 72] in steps/increments of 4 \n",
    "        dense_1_units = hp.Int('dense_1_units', min_value=16, max_value=72, step=4)\n",
    "        dense_2_units = hp.Int('dense_2_units', min_value=16, max_value=72, step=4)\n",
    "        dense_3_units = hp.Int('dense_3_units', min_value=16, max_value=72, step=4)\n",
    "        dense_4_units = hp.Int('dense_4_units', min_value=16, max_value=72, step=4)\n",
    "        dense_5_units = hp.Int('dense_5_units', min_value=16, max_value=72, step=4)\n",
    "        dense_6_units = hp.Int('dense_6_units', min_value=16, max_value=72, step=4)\n",
    "    \n",
    "        self.encoder = Sequential([\n",
    "          Dense(dense_1_units, activation='relu'),\n",
    "          Dropout(0.1),\n",
    "          Dense(dense_2_units, activation='relu'),\n",
    "          Dropout(0.1),\n",
    "          Dense(dense_3_units, activation='relu'),\n",
    "          Dropout(0.1),\n",
    "          Dense(code_size, activation='relu')\n",
    "        ])\n",
    "        \n",
    "        self.decoder = Sequential([\n",
    "          Dense(dense_4_units, activation='relu'),\n",
    "          Dropout(0.1),\n",
    "          Dense(dense_5_units, activation='relu'),\n",
    "          Dropout(0.1),\n",
    "          Dense(dense_6_units, activation='relu'),\n",
    "          Dropout(0.1),\n",
    "          Dense(output_units, activation='sigmoid')\n",
    "        ])\n",
    "  \n",
    "    def call(self, inputs):\n",
    "        encoded = self.encoder(inputs)\n",
    "        decoded = self.decoder(encoded)\n",
    "        return decoded\n",
    "\n",
    "\n",
    "def build_model(hp):\n",
    "    model = AutoEncoderTuner(hp, 140)\n",
    "    hp_learning_rate = hp.Choice('learning_rate', values=[1e-2, 1e-3, 1e-4])\n",
    "    model.compile(loss='msle', optimizer= Adam(learning_rate=hp_learning_rate),)\n",
    "    return model"
   ]
  },
  {
   "cell_type": "code",
   "execution_count": 17,
   "metadata": {},
   "outputs": [
    {
     "name": "stdout",
     "output_type": "stream",
     "text": [
      "INFO:tensorflow:Reloading Oracle from existing project autoencoder\\tuning_autoencoder6\\oracle.json\n",
      "INFO:tensorflow:Reloading Tuner from autoencoder\\tuning_autoencoder6\\tuner0.json\n",
      "INFO:tensorflow:Oracle triggered exit\n"
     ]
    }
   ],
   "source": [
    "tuner = kt.Hyperband(\n",
    "    build_model,\n",
    "    objective='val_loss',\n",
    "    max_epochs=20,\n",
    "    factor=3,\n",
    "    directory='autoencoder',\n",
    "    project_name='tuning_autoencoder6'\n",
    ")\n",
    "\n",
    "tuner.search(\n",
    "    x_train_scaled, \n",
    "    x_train_scaled, \n",
    "    epochs=20, \n",
    "    batch_size=512,\n",
    "    validation_data=(x_test_scaled, x_test_scaled)\n",
    ")"
   ]
  },
  {
   "cell_type": "code",
   "execution_count": 18,
   "metadata": {},
   "outputs": [
    {
     "name": "stdout",
     "output_type": "stream",
     "text": [
      "dense_1_units: 56\n",
      "dense_2_units: 44\n",
      "dense_3_units: 32\n",
      "dense_4_units: 40\n",
      "dense_5_units: 60\n",
      "dense_6_units: 20\n",
      "learning_rate: 0.01\n"
     ]
    }
   ],
   "source": [
    "# Display the best hyperparameters found for each layer\n",
    "hparams = [f'dense_{i}_units' for i in range(1,7)] + ['learning_rate']\n",
    "best_hyperparams = tuner.get_best_hyperparameters()\n",
    "for hps in hparams:\n",
    "  print(f\"{hps}: {best_hyperparams[0][hps]}\")"
   ]
  },
  {
   "cell_type": "code",
   "execution_count": 19,
   "metadata": {},
   "outputs": [
    {
     "name": "stdout",
     "output_type": "stream",
     "text": [
      "WARNING:tensorflow:Entity <bound method AutoEncoderTuner.call of <__main__.AutoEncoderTuner object at 0x000002248EF93198>> could not be transformed and will be executed as-is. Please report this to the AutgoGraph team. When filing the bug, set the verbosity to 10 (on Linux, `export AUTOGRAPH_VERBOSITY=10`) and attach the full output. Cause: converting <bound method AutoEncoderTuner.call of <__main__.AutoEncoderTuner object at 0x000002248EF93198>>: AttributeError: module 'gast' has no attribute 'Str'\n",
      "WARNING: Entity <bound method AutoEncoderTuner.call of <__main__.AutoEncoderTuner object at 0x000002248EF93198>> could not be transformed and will be executed as-is. Please report this to the AutgoGraph team. When filing the bug, set the verbosity to 10 (on Linux, `export AUTOGRAPH_VERBOSITY=10`) and attach the full output. Cause: converting <bound method AutoEncoderTuner.call of <__main__.AutoEncoderTuner object at 0x000002248EF93198>>: AttributeError: module 'gast' has no attribute 'Str'\n",
      "WARNING:tensorflow:Unresolved object in checkpoint: (root).optimizer.iter\n",
      "WARNING:tensorflow:Unresolved object in checkpoint: (root).optimizer.beta_1\n",
      "WARNING:tensorflow:Unresolved object in checkpoint: (root).optimizer.beta_2\n",
      "WARNING:tensorflow:Unresolved object in checkpoint: (root).optimizer.decay\n",
      "WARNING:tensorflow:Unresolved object in checkpoint: (root).optimizer.learning_rate\n",
      "WARNING:tensorflow:Unresolved object in checkpoint: (root).optimizer's state 'm' for (root).encoder.layer-0.kernel\n",
      "WARNING:tensorflow:Unresolved object in checkpoint: (root).optimizer's state 'm' for (root).encoder.layer-0.bias\n",
      "WARNING:tensorflow:Unresolved object in checkpoint: (root).optimizer's state 'm' for (root).encoder.layer-2.kernel\n",
      "WARNING:tensorflow:Unresolved object in checkpoint: (root).optimizer's state 'm' for (root).encoder.layer-2.bias\n",
      "WARNING:tensorflow:Unresolved object in checkpoint: (root).optimizer's state 'm' for (root).encoder.layer-4.kernel\n",
      "WARNING:tensorflow:Unresolved object in checkpoint: (root).optimizer's state 'm' for (root).encoder.layer-4.bias\n",
      "WARNING:tensorflow:Unresolved object in checkpoint: (root).optimizer's state 'm' for (root).encoder.layer-6.kernel\n",
      "WARNING:tensorflow:Unresolved object in checkpoint: (root).optimizer's state 'm' for (root).encoder.layer-6.bias\n",
      "WARNING:tensorflow:Unresolved object in checkpoint: (root).optimizer's state 'm' for (root).decoder.layer-0.kernel\n",
      "WARNING:tensorflow:Unresolved object in checkpoint: (root).optimizer's state 'm' for (root).decoder.layer-0.bias\n",
      "WARNING:tensorflow:Unresolved object in checkpoint: (root).optimizer's state 'm' for (root).decoder.layer-2.kernel\n",
      "WARNING:tensorflow:Unresolved object in checkpoint: (root).optimizer's state 'm' for (root).decoder.layer-2.bias\n",
      "WARNING:tensorflow:Unresolved object in checkpoint: (root).optimizer's state 'm' for (root).decoder.layer-4.kernel\n",
      "WARNING:tensorflow:Unresolved object in checkpoint: (root).optimizer's state 'm' for (root).decoder.layer-4.bias\n",
      "WARNING:tensorflow:Unresolved object in checkpoint: (root).optimizer's state 'm' for (root).decoder.layer-6.kernel\n",
      "WARNING:tensorflow:Unresolved object in checkpoint: (root).optimizer's state 'm' for (root).decoder.layer-6.bias\n",
      "WARNING:tensorflow:Unresolved object in checkpoint: (root).optimizer's state 'v' for (root).encoder.layer-0.kernel\n",
      "WARNING:tensorflow:Unresolved object in checkpoint: (root).optimizer's state 'v' for (root).encoder.layer-0.bias\n",
      "WARNING:tensorflow:Unresolved object in checkpoint: (root).optimizer's state 'v' for (root).encoder.layer-2.kernel\n",
      "WARNING:tensorflow:Unresolved object in checkpoint: (root).optimizer's state 'v' for (root).encoder.layer-2.bias\n",
      "WARNING:tensorflow:Unresolved object in checkpoint: (root).optimizer's state 'v' for (root).encoder.layer-4.kernel\n",
      "WARNING:tensorflow:Unresolved object in checkpoint: (root).optimizer's state 'v' for (root).encoder.layer-4.bias\n",
      "WARNING:tensorflow:Unresolved object in checkpoint: (root).optimizer's state 'v' for (root).encoder.layer-6.kernel\n",
      "WARNING:tensorflow:Unresolved object in checkpoint: (root).optimizer's state 'v' for (root).encoder.layer-6.bias\n",
      "WARNING:tensorflow:Unresolved object in checkpoint: (root).optimizer's state 'v' for (root).decoder.layer-0.kernel\n",
      "WARNING:tensorflow:Unresolved object in checkpoint: (root).optimizer's state 'v' for (root).decoder.layer-0.bias\n",
      "WARNING:tensorflow:Unresolved object in checkpoint: (root).optimizer's state 'v' for (root).decoder.layer-2.kernel\n",
      "WARNING:tensorflow:Unresolved object in checkpoint: (root).optimizer's state 'v' for (root).decoder.layer-2.bias\n",
      "WARNING:tensorflow:Unresolved object in checkpoint: (root).optimizer's state 'v' for (root).decoder.layer-4.kernel\n",
      "WARNING:tensorflow:Unresolved object in checkpoint: (root).optimizer's state 'v' for (root).decoder.layer-4.bias\n",
      "WARNING:tensorflow:Unresolved object in checkpoint: (root).optimizer's state 'v' for (root).decoder.layer-6.kernel\n",
      "WARNING:tensorflow:Unresolved object in checkpoint: (root).optimizer's state 'v' for (root).decoder.layer-6.bias\n",
      "WARNING:tensorflow:A checkpoint was restored (e.g. tf.train.Checkpoint.restore or tf.keras.Model.load_weights) but not all checkpointed values were used. See above for specific issues. Use expect_partial() on the load status object, e.g. tf.train.Checkpoint.restore(...).expect_partial(), to silence these warnings, or use assert_consumed() to make the check explicit. See https://www.tensorflow.org/alpha/guide/checkpoints#loading_mechanics for details.\n",
      "Train on 2335 samples, validate on 1000 samples\n",
      "Epoch 1/20\n",
      "2335/2335 [==============================] - 1s 405us/sample - loss: 0.0041 - val_loss: 0.0099\n",
      "Epoch 2/20\n",
      "2335/2335 [==============================] - 0s 19us/sample - loss: 0.0039 - val_loss: 0.0097\n",
      "Epoch 3/20\n",
      "2335/2335 [==============================] - 0s 17us/sample - loss: 0.0038 - val_loss: 0.0096\n",
      "Epoch 4/20\n",
      "2335/2335 [==============================] - 0s 20us/sample - loss: 0.0036 - val_loss: 0.0095\n",
      "Epoch 5/20\n",
      "2335/2335 [==============================] - 0s 17us/sample - loss: 0.0035 - val_loss: 0.0094\n",
      "Epoch 6/20\n",
      "2335/2335 [==============================] - 0s 18us/sample - loss: 0.0034 - val_loss: 0.0093\n",
      "Epoch 7/20\n",
      "2335/2335 [==============================] - 0s 20us/sample - loss: 0.0034 - val_loss: 0.0092\n",
      "Epoch 8/20\n",
      "2335/2335 [==============================] - 0s 20us/sample - loss: 0.0033 - val_loss: 0.0092\n",
      "Epoch 9/20\n",
      "2335/2335 [==============================] - 0s 19us/sample - loss: 0.0032 - val_loss: 0.0091\n",
      "Epoch 10/20\n",
      "2335/2335 [==============================] - 0s 18us/sample - loss: 0.0032 - val_loss: 0.0090\n",
      "Epoch 11/20\n",
      "2335/2335 [==============================] - 0s 19us/sample - loss: 0.0031 - val_loss: 0.0090\n",
      "Epoch 12/20\n",
      "2335/2335 [==============================] - 0s 19us/sample - loss: 0.0031 - val_loss: 0.0090\n",
      "Epoch 13/20\n",
      "2335/2335 [==============================] - 0s 19us/sample - loss: 0.0030 - val_loss: 0.0089\n",
      "Epoch 14/20\n",
      "2335/2335 [==============================] - 0s 17us/sample - loss: 0.0030 - val_loss: 0.0089\n",
      "Epoch 15/20\n",
      "2335/2335 [==============================] - 0s 19us/sample - loss: 0.0030 - val_loss: 0.0089\n",
      "Epoch 16/20\n",
      "2335/2335 [==============================] - 0s 20us/sample - loss: 0.0029 - val_loss: 0.0088\n",
      "Epoch 17/20\n",
      "2335/2335 [==============================] - 0s 22us/sample - loss: 0.0029 - val_loss: 0.0088\n",
      "Epoch 18/20\n",
      "2335/2335 [==============================] - 0s 20us/sample - loss: 0.0029 - val_loss: 0.0088\n",
      "Epoch 19/20\n",
      "2335/2335 [==============================] - 0s 20us/sample - loss: 0.0029 - val_loss: 0.0088\n",
      "Epoch 20/20\n",
      "2335/2335 [==============================] - 0s 20us/sample - loss: 0.0029 - val_loss: 0.0087\n"
     ]
    }
   ],
   "source": [
    "# Apply test data to best model\n",
    "best_model = tuner.get_best_models()[0]\n",
    "best_model.compile(loss='msle', optimizer=Adam(0.001))\n",
    "\n",
    "history = best_model.fit(\n",
    "    x_train_scaled,\n",
    "    x_train_scaled,\n",
    "    epochs=20,\n",
    "    batch_size=512,\n",
    "    validation_data=(x_test_scaled, x_test_scaled)\n",
    ")"
   ]
  },
  {
   "cell_type": "code",
   "execution_count": 20,
   "metadata": {},
   "outputs": [
    {
     "data": {
      "text/plain": [
       "0.947"
      ]
     },
     "execution_count": 20,
     "metadata": {},
     "output_type": "execute_result"
    }
   ],
   "source": [
    "threshold_ = find_threshold(best_model, x_train_scaled)\n",
    "preds_ = get_predictions(best_model, x_test_scaled, threshold_)\n",
    "accuracy_score(preds_, y_test)"
   ]
  }
 ],
 "metadata": {
  "kernelspec": {
   "display_name": "Python 3 (ipykernel)",
   "language": "python",
   "name": "python3"
  },
  "language_info": {
   "codemirror_mode": {
    "name": "ipython",
    "version": 3
   },
   "file_extension": ".py",
   "mimetype": "text/x-python",
   "name": "python",
   "nbconvert_exporter": "python",
   "pygments_lexer": "ipython3",
   "version": "3.7.3"
  }
 },
 "nbformat": 4,
 "nbformat_minor": 4
}
