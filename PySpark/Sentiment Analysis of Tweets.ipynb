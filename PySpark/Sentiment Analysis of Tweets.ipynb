{
 "cells": [
  {
   "cell_type": "markdown",
   "id": "cc6147c5",
   "metadata": {},
   "source": [
    "# Sentiment Analysis with Pyspark"
   ]
  },
  {
   "cell_type": "code",
   "execution_count": 5,
   "id": "9ba967e3",
   "metadata": {},
   "outputs": [],
   "source": [
    "import findspark\n",
    "findspark.init('/home/matt/spark-3.1.1-bin-hadoop2.7')\n",
    "\n",
    "import pyspark as ps\n",
    "import warnings\n",
    "from pyspark.sql import SQLContext\n",
    "\n",
    "import pandas as pd\n",
    "import numpy as np"
   ]
  },
  {
   "cell_type": "code",
   "execution_count": 3,
   "id": "fd9bafeb",
   "metadata": {},
   "outputs": [],
   "source": [
    "# create SparkContext on available CPUs \n",
    "sc = ps.SparkContext('local[2]')\n",
    "sqlContext = SQLContext(sc)"
   ]
  },
  {
   "cell_type": "markdown",
   "id": "fda5c46c",
   "metadata": {},
   "source": [
    "## Import stored dataset"
   ]
  },
  {
   "cell_type": "code",
   "execution_count": null,
   "id": "1c79e6e3",
   "metadata": {},
   "outputs": [],
   "source": [
    "cols = ['sentiment','id','date','query_string','user','text']"
   ]
  },
  {
   "cell_type": "code",
   "execution_count": null,
   "id": "e31a4566",
   "metadata": {},
   "outputs": [],
   "source": [
    "df = pd.read_csv(\"./training.1600000.processed.noemoticon.csv\",header=None, names=cols)"
   ]
  },
  {
   "cell_type": "code",
   "execution_count": null,
   "id": "11c9b4ea",
   "metadata": {},
   "outputs": [],
   "source": [
    "df.head(5)"
   ]
  },
  {
   "cell_type": "code",
   "execution_count": null,
   "id": "9c84d30f",
   "metadata": {},
   "outputs": [],
   "source": [
    "# drop unnecessary columns\n",
    "df.drop(['id','date','query_string','user'],axis=1,inplace=True)"
   ]
  },
  {
   "cell_type": "code",
   "execution_count": null,
   "id": "08b9023e",
   "metadata": {},
   "outputs": [],
   "source": [
    "df.head(5)"
   ]
  },
  {
   "cell_type": "code",
   "execution_count": null,
   "id": "4abef3e3",
   "metadata": {},
   "outputs": [],
   "source": [
    "# plot distribution of tweet sentiments\n",
    "import seaborn as sns\n",
    "sns.displot(df,x='sentiment')"
   ]
  },
  {
   "cell_type": "code",
   "execution_count": null,
   "id": "ac4c9ff1",
   "metadata": {},
   "outputs": [],
   "source": [
    "# map to 0 and 1\n",
    "df['sentiment'] = df['sentiment'].map({0: 0, 4: 1})"
   ]
  },
  {
   "cell_type": "markdown",
   "id": "e42d0feb",
   "metadata": {},
   "source": [
    "## Clean data of unnecessay text, e.g. HTML, '@', URL, etc."
   ]
  },
  {
   "cell_type": "code",
   "execution_count": null,
   "id": "16bb458a",
   "metadata": {},
   "outputs": [],
   "source": [
    "# remove HTML decoding\n",
    "from bs4 import BeautifulSoup #wrangle lxml\n",
    "import re # to remove tags\n",
    "from nltk.tokenize import WordPunctTokenizer"
   ]
  },
  {
   "cell_type": "code",
   "execution_count": null,
   "id": "495834ea",
   "metadata": {},
   "outputs": [],
   "source": [
    "tok = WordPunctTokenizer()"
   ]
  },
  {
   "cell_type": "code",
   "execution_count": null,
   "id": "e24a4a2a",
   "metadata": {},
   "outputs": [],
   "source": [
    "# define cleaner function variables\n",
    "mentions = r'@[A-Za-z0-9]+'\n",
    "urls = r'https?://[A-Za-z0-9./]+'\n",
    "combined_pat = r'|'.join((mentions, urls))\n",
    "www_pat = r'www.[^ ]+'\n",
    "negations_dic = {\"isn't\":\"is not\", \"aren't\":\"are not\", \"wasn't\":\"was not\", \"weren't\":\"were not\",\n",
    "                \"haven't\":\"have not\",\"hasn't\":\"has not\",\"hadn't\":\"had not\",\"won't\":\"will not\",\n",
    "                \"wouldn't\":\"would not\", \"don't\":\"do not\", \"doesn't\":\"does not\",\"didn't\":\"did not\",\n",
    "                \"can't\":\"can not\",\"couldn't\":\"could not\",\"shouldn't\":\"should not\",\"mightn't\":\"might not\",\n",
    "                \"mustn't\":\"must not\"}\n",
    "neg_pattern = re.compile(r'\\b(' + '|'.join(negations_dic.keys()) + r')\\b')\n",
    "\n",
    "# define cleaner functions\n",
    "def tweet_cleaner_updated(text):\n",
    "    soup = BeautifulSoup(text, 'lxml')\n",
    "    souped = soup.get_text()\n",
    "    try:\n",
    "        bom_removed = souped.decode(\"utf-8-sig\").replace(u\"\\ufffd\", \"?\")\n",
    "    except:\n",
    "        bom_removed = souped\n",
    "    stripped = re.sub(combined_pat, '', bom_removed)\n",
    "    stripped = re.sub(www_pat, '', stripped)\n",
    "    lower_case = stripped.lower()\n",
    "    neg_handled = neg_pattern.sub(lambda x: negations_dic[x.group()], lower_case)\n",
    "    letters_only = re.sub(\"[^a-zA-Z]\", \" \", neg_handled)\n",
    "    # tokenize and join together to remove unneccessary white spaces\n",
    "    words = [x for x  in tok.tokenize(letters_only) if len(x) > 1]\n",
    "    return (\" \".join(words)).strip()"
   ]
  },
  {
   "cell_type": "code",
   "execution_count": null,
   "id": "0cb0132c",
   "metadata": {},
   "outputs": [],
   "source": [
    "# check original data\n",
    "before_clean = df.text[100]\n",
    "before_clean"
   ]
  },
  {
   "cell_type": "code",
   "execution_count": null,
   "id": "d5bc47a5",
   "metadata": {},
   "outputs": [],
   "source": [
    "# clean data\n",
    "cleaned_text = tweet_cleaner(before_clean)\n",
    "cleaned_text"
   ]
  },
  {
   "cell_type": "code",
   "execution_count": null,
   "id": "6f407543",
   "metadata": {
    "scrolled": true
   },
   "outputs": [],
   "source": [
    "# now clean all tweets - takes a long time to do all 1.6 million tweets!\n",
    "print(\"Cleaning and parsing the tweets...\\n\")\n",
    "clean_tweet_texts = []\n",
    "for i in df.index:            \n",
    "    if((i+1)%100000 == 0 ):\n",
    "        print (\"Tweets %d of %d has been processed\" % (i+1, len(df)))\n",
    "    clean_tweet_texts.append(tweet_cleaner(df['text'][i]))"
   ]
  },
  {
   "cell_type": "code",
   "execution_count": null,
   "id": "bc4d7462",
   "metadata": {},
   "outputs": [],
   "source": [
    "#check for null data created by cleaning process\n",
    "np.sum(df.isnull().any(axis=1))"
   ]
  },
  {
   "cell_type": "code",
   "execution_count": null,
   "id": "5aeb457a",
   "metadata": {},
   "outputs": [],
   "source": [
    "# delete rows containing missing data\n",
    "df.dropna(inplace=True)\n",
    "df.reset_index(drop=True,inplace=True)\n",
    "df.info()"
   ]
  },
  {
   "cell_type": "markdown",
   "id": "863ca85e",
   "metadata": {},
   "source": [
    "## Save cleaned data"
   ]
  },
  {
   "cell_type": "code",
   "execution_count": null,
   "id": "1b5ba550",
   "metadata": {},
   "outputs": [],
   "source": [
    "clean_df = pd.DataFrame(clean_tweet_texts,columns=['text'])\n",
    "clean_df['target'] = df.sentiment"
   ]
  },
  {
   "cell_type": "code",
   "execution_count": null,
   "id": "1a761009",
   "metadata": {},
   "outputs": [],
   "source": [
    "clean_df.head(5)"
   ]
  },
  {
   "cell_type": "code",
   "execution_count": null,
   "id": "0f84efa9",
   "metadata": {},
   "outputs": [],
   "source": [
    "clean_df.to_csv('clean_tweet.csv',encoding='utf-8')"
   ]
  },
  {
   "cell_type": "markdown",
   "id": "ac5b40b4",
   "metadata": {},
   "source": [
    "# Create Sentiment Analysis models"
   ]
  },
  {
   "cell_type": "markdown",
   "id": "d241045d",
   "metadata": {},
   "source": [
    "## Test baseline sentiment using TextBlob"
   ]
  },
  {
   "cell_type": "code",
   "execution_count": 25,
   "id": "aad904ac",
   "metadata": {},
   "outputs": [],
   "source": [
    "from textblob import TextBlob\n",
    "from sklearn.metrics import accuracy_score\n",
    "from sklearn.metrics import classification_report, confusion_matrix"
   ]
  },
  {
   "cell_type": "code",
   "execution_count": 63,
   "id": "98ffeea9",
   "metadata": {},
   "outputs": [
    {
     "name": "stdout",
     "output_type": "stream",
     "text": [
      "<class 'pandas.core.frame.DataFrame'>\n",
      "RangeIndex: 1596753 entries, 0 to 1596752\n",
      "Data columns (total 2 columns):\n",
      " #   Column  Non-Null Count    Dtype \n",
      "---  ------  --------------    ----- \n",
      " 0   text    1596753 non-null  object\n",
      " 1   target  1596753 non-null  int64 \n",
      "dtypes: int64(1), object(1)\n",
      "memory usage: 24.4+ MB\n"
     ]
    }
   ],
   "source": [
    "tdf = pd.read_csv(\"clean_tweet.csv\",index_col=0)\n",
    "tdf.dropna(inplace=True)\n",
    "tdf.reset_index(drop=True,inplace=True)\n",
    "tdf.info()"
   ]
  },
  {
   "cell_type": "code",
   "execution_count": 73,
   "id": "c5d46199",
   "metadata": {
    "scrolled": true
   },
   "outputs": [
    {
     "data": {
      "text/plain": [
       "0          0\n",
       "1          0\n",
       "2          0\n",
       "3          0\n",
       "4          0\n",
       "          ..\n",
       "1596748    1\n",
       "1596749    1\n",
       "1596750    1\n",
       "1596751    1\n",
       "1596752    1\n",
       "Name: target, Length: 1596753, dtype: int64"
      ]
     },
     "execution_count": 73,
     "metadata": {},
     "output_type": "execute_result"
    }
   ],
   "source": [
    "from sklearn.model_selection import train_test_split\n",
    "x = tdf.text\n",
    "y = tdf.target"
   ]
  },
  {
   "cell_type": "code",
   "execution_count": 75,
   "id": "7faf2ade",
   "metadata": {},
   "outputs": [],
   "source": [
    "# split data to be similar percentage of df\n",
    "x_train, x_test, y_train, y_test = train_test_split(x, y, test_size=.1,random_state=1)"
   ]
  },
  {
   "cell_type": "code",
   "execution_count": 76,
   "id": "584ab932",
   "metadata": {},
   "outputs": [
    {
     "name": "stdout",
     "output_type": "stream",
     "text": [
      "CPU times: user 46.2 s, sys: 45 ms, total: 46.2 s\n",
      "Wall time: 46.3 s\n"
     ]
    }
   ],
   "source": [
    "%%time\n",
    "# measure polarity of tweets\n",
    "tbresult = [TextBlob(i).sentiment.polarity for i in x_test]\n",
    "tbpred = [0 if n < 0 else 1 for n in tbresult]"
   ]
  },
  {
   "cell_type": "code",
   "execution_count": 78,
   "id": "324ed9c7",
   "metadata": {
    "scrolled": true
   },
   "outputs": [
    {
     "name": "stdout",
     "output_type": "stream",
     "text": [
      "Accuracy Score: 61.21%\n",
      "--------------------------------------------------------------------------------\n",
      "Classification Report\n",
      "\n",
      "              precision    recall  f1-score   support\n",
      "\n",
      "           0       0.76      0.32      0.46     79782\n",
      "           1       0.57      0.90      0.70     79894\n",
      "\n",
      "    accuracy                           0.61    159676\n",
      "   macro avg       0.67      0.61      0.58    159676\n",
      "weighted avg       0.67      0.61      0.58    159676\n",
      "\n"
     ]
    },
    {
     "data": {
      "text/plain": [
       "<AxesSubplot:>"
      ]
     },
     "execution_count": 78,
     "metadata": {},
     "output_type": "execute_result"
    },
    {
     "data": {
      "image/png": "[encoded data removed]",
      "text/plain": [
       "<Figure size 432x288 with 2 Axes>"
      ]
     },
     "metadata": {
      "needs_background": "light"
     },
     "output_type": "display_data"
    }
   ],
   "source": [
    "import seaborn as sns\n",
    "\n",
    "# Calculate accuracy and create a confusion matrix output\n",
    "conmat = np.array(confusion_matrix(y_test, tbpred, labels=[1,0]))\n",
    "\n",
    "confusion = pd.DataFrame(conmat, index=['positive', 'negative'],\n",
    "                         columns=['predicted_positive','predicted_negative'])\n",
    "\n",
    "print(\"Accuracy Score: {0:.2f}%\".format(accuracy_score(y_test, tbpred)*100))\n",
    "print(\"-\"*80)\n",
    "print(\"Classification Report\\n\")\n",
    "print(classification_report(y_test, tbpred))\n",
    "\n",
    "# plot confusion matrix\n",
    "sns.heatmap(confusion/np.sum(confusion), annot=True, fmt='.2%',cmap='Blues')"
   ]
  },
  {
   "cell_type": "markdown",
   "id": "5265ee64",
   "metadata": {},
   "source": [
    "## Train new models"
   ]
  },
  {
   "cell_type": "code",
   "execution_count": 6,
   "id": "a6d5ed9b",
   "metadata": {},
   "outputs": [],
   "source": [
    "from pyspark.sql import SparkSession\n",
    "spark = SparkSession.builder.appName('nlp').getOrCreate()\n",
    "df = spark.read.csv(\"clean_tweet.csv\",inferSchema=True,header='true')"
   ]
  },
  {
   "cell_type": "code",
   "execution_count": 7,
   "id": "2d1f16a5",
   "metadata": {},
   "outputs": [],
   "source": [
    "df = df.withColumnRenamed('_c0','idnx').withColumnRenamed('_c1','text').withColumnRenamed('_c2','target')\n",
    "df.show(10)"
   ]
  },
  {
   "cell_type": "code",
   "execution_count": 10,
   "id": "27896dd3",
   "metadata": {},
   "outputs": [
    {
     "name": "stdout",
     "output_type": "stream",
     "text": [
      "+----+----+------+\n",
      "|idnx|text|target|\n",
      "+----+----+------+\n",
      "+----+----+------+\n",
      "\n"
     ]
    },
    {
     "data": {
      "text/plain": [
       "1596753"
      ]
     },
     "execution_count": 10,
     "metadata": {},
     "output_type": "execute_result"
    }
   ],
   "source": [
    "# drop any NaNs/nulls and select only relevant columns\n",
    "df = df.na.drop(subset=['text'])\n",
    "df.filter(df.text.isNull()).show()\n",
    "\n",
    "# check if any nulls left in df\n",
    "df = df['text','target']\n",
    "# display remaining rows\n",
    "df.count()"
   ]
  },
  {
   "cell_type": "markdown",
   "id": "4838db3a",
   "metadata": {},
   "source": [
    "### Data preparation"
   ]
  },
  {
   "cell_type": "code",
   "execution_count": 12,
   "id": "6a570ca6",
   "metadata": {},
   "outputs": [],
   "source": [
    "from pyspark.ml.feature import Tokenizer,StopWordsRemover, CountVectorizer,IDF,StringIndexer\n",
    "\n",
    "tokenizer = Tokenizer(inputCol=\"text\", outputCol=\"token_text\")\n",
    "stopremove = StopWordsRemover(inputCol='token_text',outputCol='stop_tokens')\n",
    "cv = CountVectorizer(vocabSize=2**16, inputCol=\"stop_tokens\", outputCol='cv')\n",
    "idf = IDF(inputCol='cv', outputCol=\"tf_idf\") #minDocFreq: remove sparse terms\n",
    "\n",
    "label_stringIdx = StringIndexer(inputCol = \"target\", outputCol = \"label\")"
   ]
  },
  {
   "cell_type": "code",
   "execution_count": 13,
   "id": "057bf8b7",
   "metadata": {},
   "outputs": [],
   "source": [
    "from pyspark.ml.feature import VectorAssembler\n",
    "from pyspark.ml.linalg import Vector\n",
    "clean_up = VectorAssembler(inputCols=['tf_idf'],outputCol='features')"
   ]
  },
  {
   "cell_type": "code",
   "execution_count": 14,
   "id": "2ad418c3",
   "metadata": {},
   "outputs": [],
   "source": [
    "from pyspark.ml import Pipeline\n",
    "data_prep_pipe = Pipeline(stages=[label_stringIdx,tokenizer,stopremove,cv,idf,clean_up])"
   ]
  },
  {
   "cell_type": "code",
   "execution_count": 15,
   "id": "6acf01c2",
   "metadata": {},
   "outputs": [],
   "source": [
    "# apply processes to data\n",
    "cleaner = data_prep_pipe.fit(df)\n",
    "clean_data = cleaner.transform(df)"
   ]
  },
  {
   "cell_type": "code",
   "execution_count": 16,
   "id": "9c05aff1",
   "metadata": {},
   "outputs": [
    {
     "name": "stdout",
     "output_type": "stream",
     "text": [
      "+-----+--------------------+\n",
      "|label|            features|\n",
      "+-----+--------------------+\n",
      "|  0.0|(65536,[2,10,61,3...|\n",
      "|  0.0|(65536,[6,67,171,...|\n",
      "|  0.0|(65536,[5,212,248...|\n",
      "|  0.0|(65536,[4,320,372...|\n",
      "|  0.0|(65536,[0,19,484,...|\n",
      "|  0.0|(65536,[320,2018]...|\n",
      "|  0.0|(65536,[32,804],[...|\n",
      "|  0.0|(65536,[0,11,12,1...|\n",
      "|  0.0|(65536,[66,420,67...|\n",
      "|  0.0|(65536,[2295],[7....|\n",
      "+-----+--------------------+\n",
      "only showing top 10 rows\n",
      "\n"
     ]
    }
   ],
   "source": [
    "clean_data = clean_data.select(['label','features'])\n",
    "clean_data.show(10)"
   ]
  },
  {
   "cell_type": "markdown",
   "id": "5ed9141d",
   "metadata": {},
   "source": [
    "### Add models to compare"
   ]
  },
  {
   "cell_type": "code",
   "execution_count": 17,
   "id": "d206f11b",
   "metadata": {},
   "outputs": [],
   "source": [
    "from pyspark.ml.classification import NaiveBayes, LogisticRegression, RandomForestClassifier,GBTClassifier,MultilayerPerceptronClassifier\n",
    "from pyspark.ml.evaluation import BinaryClassificationEvaluator\n",
    "\n",
    "# Use defaults\n",
    "nb = NaiveBayes()\n",
    "lr = LogisticRegression(featuresCol='features',labelCol='label',)\n",
    "rf = RandomForestClassifier(featuresCol='features',labelCol='label',numTrees=20)\n",
    "gbt = GBTClassifier(featuresCol='features',labelCol='label')\n",
    "mp = MultilayerPerceptronClassifier(layers=[5, 5, 2], seed=123, featuresCol='features',labelCol='label')"
   ]
  },
  {
   "cell_type": "code",
   "execution_count": 18,
   "id": "6f245d34",
   "metadata": {},
   "outputs": [],
   "source": [
    "# split data into training and evaluation\n",
    "train_set, val_set = clean_data.randomSplit([0.9, 0.1], seed = 1)"
   ]
  },
  {
   "cell_type": "markdown",
   "id": "446342df",
   "metadata": {},
   "source": [
    "Fit models - may take a while"
   ]
  },
  {
   "cell_type": "code",
   "execution_count": 20,
   "id": "ceaf10a6",
   "metadata": {},
   "outputs": [
    {
     "name": "stdout",
     "output_type": "stream",
     "text": [
      "CPU times: user 26.6 ms, sys: 15.1 ms, total: 41.6 ms\n",
      "Wall time: 2min 47s\n"
     ]
    }
   ],
   "source": [
    "%%time\n",
    "lrModel = lr.fit(train_set)"
   ]
  },
  {
   "cell_type": "code",
   "execution_count": null,
   "id": "6d01bb8a",
   "metadata": {},
   "outputs": [],
   "source": [
    "#%%time\n",
    "#nbModel = nb.fit(train_set)"
   ]
  },
  {
   "cell_type": "code",
   "execution_count": null,
   "id": "716f469a",
   "metadata": {},
   "outputs": [],
   "source": [
    "#%%time\n",
    "#rfModel = rf.fit(train_set)"
   ]
  },
  {
   "cell_type": "code",
   "execution_count": null,
   "id": "bb448b60",
   "metadata": {},
   "outputs": [],
   "source": [
    "#%%time\n",
    "#mpModel = mp.fit(train_set)"
   ]
  },
  {
   "cell_type": "markdown",
   "id": "4502fa80",
   "metadata": {},
   "source": [
    "Evaluate models with new data"
   ]
  },
  {
   "cell_type": "code",
   "execution_count": 22,
   "id": "0f82574f",
   "metadata": {},
   "outputs": [],
   "source": [
    "lr_predictions = lrModel.transform(val_set)\n",
    "#nb_predictions = nbModel.transform(val_set)\n",
    "#rf_predictions = rfModel.transform(val_set)\n",
    "#mp_predictions = mpModel.transform(val_set)"
   ]
  },
  {
   "cell_type": "code",
   "execution_count": 24,
   "id": "a952fae4",
   "metadata": {},
   "outputs": [
    {
     "name": "stdout",
     "output_type": "stream",
     "text": [
      "Accuracy of lr model at predicting sentiment was: 0.7724138292897307\n"
     ]
    }
   ],
   "source": [
    "# show accuracy of each model\n",
    "from pyspark.ml.evaluation import MulticlassClassificationEvaluator\n",
    "acc_eval = MulticlassClassificationEvaluator()\n",
    "\n",
    "acc = acc_eval.evaluate(lr_predictions)\n",
    "print(\"Accuracy of lr model at predicting sentiment was: {}\".format(acc))\n",
    "\n",
    "#acc = acc_eval.evaluate(nb_predictions)\n",
    "#print(\"Accuracy of nb model at predicting sentiment was: {}\".format(acc))\n",
    "\n",
    "#acc = acc_eval.evaluate(rf_predictions)\n",
    "#print(\"Accuracy of rf model at predicting sentiment was: {}\".format(acc))\n",
    "\n",
    "#acc = acc_eval.evaluate(mp_predictions)\n",
    "#print(\"Accuracy of mp model at predicting sentiment was: {}\".format(acc))"
   ]
  },
  {
   "cell_type": "markdown",
   "id": "adaee123",
   "metadata": {},
   "source": [
    "#  Real-time Tweets using TwitterAPI "
   ]
  },
  {
   "cell_type": "code",
   "execution_count": null,
   "id": "a17636ba",
   "metadata": {},
   "outputs": [],
   "source": [
    "import tweepy\n",
    "import sqlite3\n",
    "from langdetect import detect"
   ]
  },
  {
   "cell_type": "code",
   "execution_count": null,
   "id": "d0cda656",
   "metadata": {},
   "outputs": [],
   "source": [
    "# TwitterAPI cred\n",
    "consumer_key='kBE2ryUkXdox8Ewj83HJlBNkh'\n",
    "consumer_secret='qGkdiLGccdchQKkEC7SX7Sz8CtIxs9xf9kZes81ktTduQa2H8e'\n",
    "access_token ='976745700921892864-7c3GVL9ZhpEwbuHPtEedvT8AgRgpisJ'\n",
    "access_secret='zqYcaPmBVuBJXQl9bLEu1uY2TjcQHeR9SsBdWIAzXqM78'"
   ]
  },
  {
   "cell_type": "code",
   "execution_count": null,
   "id": "ff847a93",
   "metadata": {},
   "outputs": [],
   "source": [
    "auth = tweepy.OAuthHandler(consumer_key, consumer_secret)\n",
    "auth.set_access_token(access_token, access_secret)\n",
    "api = tweepy.API(auth)"
   ]
  },
  {
   "cell_type": "code",
   "execution_count": null,
   "id": "0201ac8a",
   "metadata": {},
   "outputs": [],
   "source": [
    "# Location specific tweets\n",
    "places = api.geo_search(query=\"United States\", granularity=\"country\")\n",
    "place_id_US = places[0].id\n",
    "print('United States id is: ',place_id_US)"
   ]
  },
  {
   "cell_type": "code",
   "execution_count": null,
   "id": "88774023",
   "metadata": {},
   "outputs": [],
   "source": [
    "# we can also add specific terms we want to filter by\n",
    "tweet_cats = [\"trump\"]\n",
    "\n",
    "maxitems = 10\n",
    "print(\"Tweets from United States\")\n",
    "print( '----------------------------------')\n",
    "for tweet in tweepy.Cursor(api.search, q=\"place:%s\" % place_id_US and tweet_cats, lang=\"en\").items(maxitems):\n",
    "    print (tweet.text)"
   ]
  },
  {
   "cell_type": "markdown",
   "id": "811225b3",
   "metadata": {},
   "source": [
    "## Store tweets using SQL"
   ]
  },
  {
   "cell_type": "code",
   "execution_count": null,
   "id": "2d5f70c1",
   "metadata": {},
   "outputs": [],
   "source": [
    "# Let's store the data using SQL - create table\n",
    "conn = sqlite3.connect('twitter_testing.sqlite')\n",
    "cur = conn.cursor()\n",
    "cur.executescript('''\n",
    "\n",
    "CREATE TABLE Tweets_US_covid (\n",
    "    id     INTEGER NOT NULL PRIMARY KEY AUTOINCREMENT UNIQUE,\n",
    "    user_id TEXT,\n",
    "    user_name TEXT,\n",
    "    user_timezone TEXT,\n",
    "    user_language TEXT,\n",
    "    detected_language TEXT,\n",
    "    tweet_text  TEXT,\n",
    "    tweet_created TEXT\n",
    ")\n",
    "''')"
   ]
  },
  {
   "cell_type": "code",
   "execution_count": null,
   "id": "aa2e5d39",
   "metadata": {},
   "outputs": [],
   "source": [
    "tweet_cats = [\"trump\"]\n",
    "maxitems = 10\n",
    "\n",
    "# insert Tweets into table\n",
    "for tweet in tweepy.Cursor(api.search, q=\"place:%s\" % place_id_US and tweet_cats).items(maxitems):\n",
    "    detected = detect(tweet.text)\n",
    "    cur.execute('''INSERT OR IGNORE INTO Tweets_US_covid (\n",
    "        user_id, user_name, user_timezone, user_language, detected_language, tweet_text, tweet_created\n",
    "        ) \n",
    "    VALUES ( ?,?,?,?,?,?,? )''', (tweet.user.id,tweet.user.screen_name,tweet.user.time_zone,tweet.user.lang,detected,tweet.text,tweet.created_at))\n",
    "    conn.commit()"
   ]
  },
  {
   "cell_type": "code",
   "execution_count": null,
   "id": "2541c4d9",
   "metadata": {},
   "outputs": [],
   "source": [
    "# read and import into pd dataframe\n",
    "tweet_sql = pd.read_sql_query(\"SELECT * FROM Tweets_US_covid;\", conn)"
   ]
  },
  {
   "cell_type": "code",
   "execution_count": null,
   "id": "9b2334bd",
   "metadata": {},
   "outputs": [],
   "source": [
    "tweet_sql.head(5)"
   ]
  },
  {
   "cell_type": "code",
   "execution_count": null,
   "id": "6ec0c2c3",
   "metadata": {},
   "outputs": [],
   "source": [
    "before_clean = tweet_sql['tweet_text'][1]\n",
    "before_clean"
   ]
  },
  {
   "cell_type": "code",
   "execution_count": null,
   "id": "b960a2af",
   "metadata": {},
   "outputs": [],
   "source": [
    "cleaned_text = tweet_cleaner(before_clean)\n",
    "cleaned_text"
   ]
  },
  {
   "cell_type": "code",
   "execution_count": null,
   "id": "55674976",
   "metadata": {},
   "outputs": [],
   "source": [
    "len(tweet_sql)"
   ]
  },
  {
   "cell_type": "code",
   "execution_count": null,
   "id": "77ec4ae6",
   "metadata": {},
   "outputs": [],
   "source": [
    "# now clean all tweets - takes a long time to do all 1.6 million tweets!\n",
    "print(\"Cleaning and parsing the recent tweets...\\n\")\n",
    "clean_recent_tweet_texts = []\n",
    "for i in tweet_sql.index:            \n",
    "    if((i+1)%10 == 0 ):\n",
    "        print (\"Tweets %d of %d has been processed\" % (i+1, len(tweet_sql)))\n",
    "    clean_recent_tweet_texts.append(tweet_cleaner(tweet_sql['tweet_text'][i]))"
   ]
  },
  {
   "cell_type": "code",
   "execution_count": null,
   "id": "1e4b9573",
   "metadata": {},
   "outputs": [],
   "source": [
    "# convert to dataframe\n",
    "clean_rt_df = pd.DataFrame(clean_recent_tweet_texts,columns=['text'])"
   ]
  },
  {
   "cell_type": "code",
   "execution_count": null,
   "id": "7e3a6424",
   "metadata": {},
   "outputs": [],
   "source": [
    "clean_rt_df.head()"
   ]
  },
  {
   "cell_type": "code",
   "execution_count": null,
   "id": "d7615835",
   "metadata": {},
   "outputs": [],
   "source": [
    "# Sentiment of Tweets"
   ]
  }
 ],
 "metadata": {
  "kernelspec": {
   "display_name": "Python 3",
   "language": "python",
   "name": "python3"
  },
  "language_info": {
   "codemirror_mode": {
    "name": "ipython",
    "version": 3
   },
   "file_extension": ".py",
   "mimetype": "text/x-python",
   "name": "python",
   "nbconvert_exporter": "python",
   "pygments_lexer": "ipython3",
   "version": "3.8.10"
  }
 },
 "nbformat": 4,
 "nbformat_minor": 5
}
